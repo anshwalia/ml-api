{
 "cells": [
  {
   "cell_type": "markdown",
   "id": "asian-hacker",
   "metadata": {},
   "source": [
    "# Heart Attack Prediction Model"
   ]
  },
  {
   "cell_type": "markdown",
   "id": "ignored-endorsement",
   "metadata": {},
   "source": [
    "## Required Packages"
   ]
  },
  {
   "cell_type": "code",
   "execution_count": 214,
   "id": "copyrighted-circuit",
   "metadata": {},
   "outputs": [],
   "source": [
    "import pandas as pd\n",
    "import numpy as np\n",
    "import matplotlib.pyplot as plt\n",
    "%matplotlib inline\n",
    "import seaborn as sns"
   ]
  },
  {
   "cell_type": "markdown",
   "id": "amino-spank",
   "metadata": {},
   "source": [
    "## Importing Heart Dataset From CSV File"
   ]
  },
  {
   "cell_type": "code",
   "execution_count": 215,
   "id": "breeding-crystal",
   "metadata": {},
   "outputs": [
    {
     "data": {
      "text/html": [
       "<div>\n",
       "<style scoped>\n",
       "    .dataframe tbody tr th:only-of-type {\n",
       "        vertical-align: middle;\n",
       "    }\n",
       "\n",
       "    .dataframe tbody tr th {\n",
       "        vertical-align: top;\n",
       "    }\n",
       "\n",
       "    .dataframe thead th {\n",
       "        text-align: right;\n",
       "    }\n",
       "</style>\n",
       "<table border=\"1\" class=\"dataframe\">\n",
       "  <thead>\n",
       "    <tr style=\"text-align: right;\">\n",
       "      <th></th>\n",
       "      <th>age</th>\n",
       "      <th>sex</th>\n",
       "      <th>cp</th>\n",
       "      <th>trtbps</th>\n",
       "      <th>chol</th>\n",
       "      <th>fbs</th>\n",
       "      <th>restecg</th>\n",
       "      <th>thalachh</th>\n",
       "      <th>exng</th>\n",
       "      <th>oldpeak</th>\n",
       "      <th>slp</th>\n",
       "      <th>caa</th>\n",
       "      <th>thall</th>\n",
       "      <th>output</th>\n",
       "    </tr>\n",
       "  </thead>\n",
       "  <tbody>\n",
       "    <tr>\n",
       "      <th>0</th>\n",
       "      <td>63</td>\n",
       "      <td>1</td>\n",
       "      <td>3</td>\n",
       "      <td>145</td>\n",
       "      <td>233</td>\n",
       "      <td>1</td>\n",
       "      <td>0</td>\n",
       "      <td>150</td>\n",
       "      <td>0</td>\n",
       "      <td>2.3</td>\n",
       "      <td>0</td>\n",
       "      <td>0</td>\n",
       "      <td>1</td>\n",
       "      <td>1</td>\n",
       "    </tr>\n",
       "    <tr>\n",
       "      <th>1</th>\n",
       "      <td>37</td>\n",
       "      <td>1</td>\n",
       "      <td>2</td>\n",
       "      <td>130</td>\n",
       "      <td>250</td>\n",
       "      <td>0</td>\n",
       "      <td>1</td>\n",
       "      <td>187</td>\n",
       "      <td>0</td>\n",
       "      <td>3.5</td>\n",
       "      <td>0</td>\n",
       "      <td>0</td>\n",
       "      <td>2</td>\n",
       "      <td>1</td>\n",
       "    </tr>\n",
       "    <tr>\n",
       "      <th>2</th>\n",
       "      <td>41</td>\n",
       "      <td>0</td>\n",
       "      <td>1</td>\n",
       "      <td>130</td>\n",
       "      <td>204</td>\n",
       "      <td>0</td>\n",
       "      <td>0</td>\n",
       "      <td>172</td>\n",
       "      <td>0</td>\n",
       "      <td>1.4</td>\n",
       "      <td>2</td>\n",
       "      <td>0</td>\n",
       "      <td>2</td>\n",
       "      <td>1</td>\n",
       "    </tr>\n",
       "    <tr>\n",
       "      <th>3</th>\n",
       "      <td>56</td>\n",
       "      <td>1</td>\n",
       "      <td>1</td>\n",
       "      <td>120</td>\n",
       "      <td>236</td>\n",
       "      <td>0</td>\n",
       "      <td>1</td>\n",
       "      <td>178</td>\n",
       "      <td>0</td>\n",
       "      <td>0.8</td>\n",
       "      <td>2</td>\n",
       "      <td>0</td>\n",
       "      <td>2</td>\n",
       "      <td>1</td>\n",
       "    </tr>\n",
       "    <tr>\n",
       "      <th>4</th>\n",
       "      <td>57</td>\n",
       "      <td>0</td>\n",
       "      <td>0</td>\n",
       "      <td>120</td>\n",
       "      <td>354</td>\n",
       "      <td>0</td>\n",
       "      <td>1</td>\n",
       "      <td>163</td>\n",
       "      <td>1</td>\n",
       "      <td>0.6</td>\n",
       "      <td>2</td>\n",
       "      <td>0</td>\n",
       "      <td>2</td>\n",
       "      <td>1</td>\n",
       "    </tr>\n",
       "  </tbody>\n",
       "</table>\n",
       "</div>"
      ],
      "text/plain": [
       "   age  sex  cp  trtbps  chol  fbs  restecg  thalachh  exng  oldpeak  slp  \\\n",
       "0   63    1   3     145   233    1        0       150     0      2.3    0   \n",
       "1   37    1   2     130   250    0        1       187     0      3.5    0   \n",
       "2   41    0   1     130   204    0        0       172     0      1.4    2   \n",
       "3   56    1   1     120   236    0        1       178     0      0.8    2   \n",
       "4   57    0   0     120   354    0        1       163     1      0.6    2   \n",
       "\n",
       "   caa  thall  output  \n",
       "0    0      1       1  \n",
       "1    0      2       1  \n",
       "2    0      2       1  \n",
       "3    0      2       1  \n",
       "4    0      2       1  "
      ]
     },
     "execution_count": 215,
     "metadata": {},
     "output_type": "execute_result"
    }
   ],
   "source": [
    "dataset = pd.read_csv('./heart.csv')\n",
    "dataset.head()"
   ]
  },
  {
   "cell_type": "markdown",
   "id": "sustainable-nomination",
   "metadata": {},
   "source": [
    "## Exploratory Data Analysis"
   ]
  },
  {
   "cell_type": "markdown",
   "id": "twelve-dryer",
   "metadata": {},
   "source": [
    "### Correlation Matrix"
   ]
  },
  {
   "cell_type": "code",
   "execution_count": 216,
   "id": "thick-modeling",
   "metadata": {},
   "outputs": [
    {
     "data": {
      "text/html": [
       "<div>\n",
       "<style scoped>\n",
       "    .dataframe tbody tr th:only-of-type {\n",
       "        vertical-align: middle;\n",
       "    }\n",
       "\n",
       "    .dataframe tbody tr th {\n",
       "        vertical-align: top;\n",
       "    }\n",
       "\n",
       "    .dataframe thead th {\n",
       "        text-align: right;\n",
       "    }\n",
       "</style>\n",
       "<table border=\"1\" class=\"dataframe\">\n",
       "  <thead>\n",
       "    <tr style=\"text-align: right;\">\n",
       "      <th></th>\n",
       "      <th>age</th>\n",
       "      <th>sex</th>\n",
       "      <th>cp</th>\n",
       "      <th>trtbps</th>\n",
       "      <th>chol</th>\n",
       "      <th>fbs</th>\n",
       "      <th>restecg</th>\n",
       "      <th>thalachh</th>\n",
       "      <th>exng</th>\n",
       "      <th>oldpeak</th>\n",
       "      <th>slp</th>\n",
       "      <th>caa</th>\n",
       "      <th>thall</th>\n",
       "    </tr>\n",
       "  </thead>\n",
       "  <tbody>\n",
       "    <tr>\n",
       "      <th>age</th>\n",
       "      <td>1.000000</td>\n",
       "      <td>-0.098447</td>\n",
       "      <td>-0.068653</td>\n",
       "      <td>0.279351</td>\n",
       "      <td>0.213678</td>\n",
       "      <td>0.121308</td>\n",
       "      <td>-0.116211</td>\n",
       "      <td>-0.398522</td>\n",
       "      <td>0.096801</td>\n",
       "      <td>0.210013</td>\n",
       "      <td>-0.168814</td>\n",
       "      <td>0.276326</td>\n",
       "      <td>0.068001</td>\n",
       "    </tr>\n",
       "    <tr>\n",
       "      <th>sex</th>\n",
       "      <td>-0.098447</td>\n",
       "      <td>1.000000</td>\n",
       "      <td>-0.049353</td>\n",
       "      <td>-0.056769</td>\n",
       "      <td>-0.197912</td>\n",
       "      <td>0.045032</td>\n",
       "      <td>-0.058196</td>\n",
       "      <td>-0.044020</td>\n",
       "      <td>0.141664</td>\n",
       "      <td>0.096093</td>\n",
       "      <td>-0.030711</td>\n",
       "      <td>0.118261</td>\n",
       "      <td>0.210041</td>\n",
       "    </tr>\n",
       "    <tr>\n",
       "      <th>cp</th>\n",
       "      <td>-0.068653</td>\n",
       "      <td>-0.049353</td>\n",
       "      <td>1.000000</td>\n",
       "      <td>0.047608</td>\n",
       "      <td>-0.076904</td>\n",
       "      <td>0.094444</td>\n",
       "      <td>0.044421</td>\n",
       "      <td>0.295762</td>\n",
       "      <td>-0.394280</td>\n",
       "      <td>-0.149230</td>\n",
       "      <td>0.119717</td>\n",
       "      <td>-0.181053</td>\n",
       "      <td>-0.161736</td>\n",
       "    </tr>\n",
       "    <tr>\n",
       "      <th>trtbps</th>\n",
       "      <td>0.279351</td>\n",
       "      <td>-0.056769</td>\n",
       "      <td>0.047608</td>\n",
       "      <td>1.000000</td>\n",
       "      <td>0.123174</td>\n",
       "      <td>0.177531</td>\n",
       "      <td>-0.114103</td>\n",
       "      <td>-0.046698</td>\n",
       "      <td>0.067616</td>\n",
       "      <td>0.193216</td>\n",
       "      <td>-0.121475</td>\n",
       "      <td>0.101389</td>\n",
       "      <td>0.062210</td>\n",
       "    </tr>\n",
       "    <tr>\n",
       "      <th>chol</th>\n",
       "      <td>0.213678</td>\n",
       "      <td>-0.197912</td>\n",
       "      <td>-0.076904</td>\n",
       "      <td>0.123174</td>\n",
       "      <td>1.000000</td>\n",
       "      <td>0.013294</td>\n",
       "      <td>-0.151040</td>\n",
       "      <td>-0.009940</td>\n",
       "      <td>0.067023</td>\n",
       "      <td>0.053952</td>\n",
       "      <td>-0.004038</td>\n",
       "      <td>0.070511</td>\n",
       "      <td>0.098803</td>\n",
       "    </tr>\n",
       "    <tr>\n",
       "      <th>fbs</th>\n",
       "      <td>0.121308</td>\n",
       "      <td>0.045032</td>\n",
       "      <td>0.094444</td>\n",
       "      <td>0.177531</td>\n",
       "      <td>0.013294</td>\n",
       "      <td>1.000000</td>\n",
       "      <td>-0.084189</td>\n",
       "      <td>-0.008567</td>\n",
       "      <td>0.025665</td>\n",
       "      <td>0.005747</td>\n",
       "      <td>-0.059894</td>\n",
       "      <td>0.137979</td>\n",
       "      <td>-0.032019</td>\n",
       "    </tr>\n",
       "    <tr>\n",
       "      <th>restecg</th>\n",
       "      <td>-0.116211</td>\n",
       "      <td>-0.058196</td>\n",
       "      <td>0.044421</td>\n",
       "      <td>-0.114103</td>\n",
       "      <td>-0.151040</td>\n",
       "      <td>-0.084189</td>\n",
       "      <td>1.000000</td>\n",
       "      <td>0.044123</td>\n",
       "      <td>-0.070733</td>\n",
       "      <td>-0.058770</td>\n",
       "      <td>0.093045</td>\n",
       "      <td>-0.072042</td>\n",
       "      <td>-0.011981</td>\n",
       "    </tr>\n",
       "    <tr>\n",
       "      <th>thalachh</th>\n",
       "      <td>-0.398522</td>\n",
       "      <td>-0.044020</td>\n",
       "      <td>0.295762</td>\n",
       "      <td>-0.046698</td>\n",
       "      <td>-0.009940</td>\n",
       "      <td>-0.008567</td>\n",
       "      <td>0.044123</td>\n",
       "      <td>1.000000</td>\n",
       "      <td>-0.378812</td>\n",
       "      <td>-0.344187</td>\n",
       "      <td>0.386784</td>\n",
       "      <td>-0.213177</td>\n",
       "      <td>-0.096439</td>\n",
       "    </tr>\n",
       "    <tr>\n",
       "      <th>exng</th>\n",
       "      <td>0.096801</td>\n",
       "      <td>0.141664</td>\n",
       "      <td>-0.394280</td>\n",
       "      <td>0.067616</td>\n",
       "      <td>0.067023</td>\n",
       "      <td>0.025665</td>\n",
       "      <td>-0.070733</td>\n",
       "      <td>-0.378812</td>\n",
       "      <td>1.000000</td>\n",
       "      <td>0.288223</td>\n",
       "      <td>-0.257748</td>\n",
       "      <td>0.115739</td>\n",
       "      <td>0.206754</td>\n",
       "    </tr>\n",
       "    <tr>\n",
       "      <th>oldpeak</th>\n",
       "      <td>0.210013</td>\n",
       "      <td>0.096093</td>\n",
       "      <td>-0.149230</td>\n",
       "      <td>0.193216</td>\n",
       "      <td>0.053952</td>\n",
       "      <td>0.005747</td>\n",
       "      <td>-0.058770</td>\n",
       "      <td>-0.344187</td>\n",
       "      <td>0.288223</td>\n",
       "      <td>1.000000</td>\n",
       "      <td>-0.577537</td>\n",
       "      <td>0.222682</td>\n",
       "      <td>0.210244</td>\n",
       "    </tr>\n",
       "    <tr>\n",
       "      <th>slp</th>\n",
       "      <td>-0.168814</td>\n",
       "      <td>-0.030711</td>\n",
       "      <td>0.119717</td>\n",
       "      <td>-0.121475</td>\n",
       "      <td>-0.004038</td>\n",
       "      <td>-0.059894</td>\n",
       "      <td>0.093045</td>\n",
       "      <td>0.386784</td>\n",
       "      <td>-0.257748</td>\n",
       "      <td>-0.577537</td>\n",
       "      <td>1.000000</td>\n",
       "      <td>-0.080155</td>\n",
       "      <td>-0.104764</td>\n",
       "    </tr>\n",
       "    <tr>\n",
       "      <th>caa</th>\n",
       "      <td>0.276326</td>\n",
       "      <td>0.118261</td>\n",
       "      <td>-0.181053</td>\n",
       "      <td>0.101389</td>\n",
       "      <td>0.070511</td>\n",
       "      <td>0.137979</td>\n",
       "      <td>-0.072042</td>\n",
       "      <td>-0.213177</td>\n",
       "      <td>0.115739</td>\n",
       "      <td>0.222682</td>\n",
       "      <td>-0.080155</td>\n",
       "      <td>1.000000</td>\n",
       "      <td>0.151832</td>\n",
       "    </tr>\n",
       "    <tr>\n",
       "      <th>thall</th>\n",
       "      <td>0.068001</td>\n",
       "      <td>0.210041</td>\n",
       "      <td>-0.161736</td>\n",
       "      <td>0.062210</td>\n",
       "      <td>0.098803</td>\n",
       "      <td>-0.032019</td>\n",
       "      <td>-0.011981</td>\n",
       "      <td>-0.096439</td>\n",
       "      <td>0.206754</td>\n",
       "      <td>0.210244</td>\n",
       "      <td>-0.104764</td>\n",
       "      <td>0.151832</td>\n",
       "      <td>1.000000</td>\n",
       "    </tr>\n",
       "  </tbody>\n",
       "</table>\n",
       "</div>"
      ],
      "text/plain": [
       "               age       sex        cp    trtbps      chol       fbs  \\\n",
       "age       1.000000 -0.098447 -0.068653  0.279351  0.213678  0.121308   \n",
       "sex      -0.098447  1.000000 -0.049353 -0.056769 -0.197912  0.045032   \n",
       "cp       -0.068653 -0.049353  1.000000  0.047608 -0.076904  0.094444   \n",
       "trtbps    0.279351 -0.056769  0.047608  1.000000  0.123174  0.177531   \n",
       "chol      0.213678 -0.197912 -0.076904  0.123174  1.000000  0.013294   \n",
       "fbs       0.121308  0.045032  0.094444  0.177531  0.013294  1.000000   \n",
       "restecg  -0.116211 -0.058196  0.044421 -0.114103 -0.151040 -0.084189   \n",
       "thalachh -0.398522 -0.044020  0.295762 -0.046698 -0.009940 -0.008567   \n",
       "exng      0.096801  0.141664 -0.394280  0.067616  0.067023  0.025665   \n",
       "oldpeak   0.210013  0.096093 -0.149230  0.193216  0.053952  0.005747   \n",
       "slp      -0.168814 -0.030711  0.119717 -0.121475 -0.004038 -0.059894   \n",
       "caa       0.276326  0.118261 -0.181053  0.101389  0.070511  0.137979   \n",
       "thall     0.068001  0.210041 -0.161736  0.062210  0.098803 -0.032019   \n",
       "\n",
       "           restecg  thalachh      exng   oldpeak       slp       caa     thall  \n",
       "age      -0.116211 -0.398522  0.096801  0.210013 -0.168814  0.276326  0.068001  \n",
       "sex      -0.058196 -0.044020  0.141664  0.096093 -0.030711  0.118261  0.210041  \n",
       "cp        0.044421  0.295762 -0.394280 -0.149230  0.119717 -0.181053 -0.161736  \n",
       "trtbps   -0.114103 -0.046698  0.067616  0.193216 -0.121475  0.101389  0.062210  \n",
       "chol     -0.151040 -0.009940  0.067023  0.053952 -0.004038  0.070511  0.098803  \n",
       "fbs      -0.084189 -0.008567  0.025665  0.005747 -0.059894  0.137979 -0.032019  \n",
       "restecg   1.000000  0.044123 -0.070733 -0.058770  0.093045 -0.072042 -0.011981  \n",
       "thalachh  0.044123  1.000000 -0.378812 -0.344187  0.386784 -0.213177 -0.096439  \n",
       "exng     -0.070733 -0.378812  1.000000  0.288223 -0.257748  0.115739  0.206754  \n",
       "oldpeak  -0.058770 -0.344187  0.288223  1.000000 -0.577537  0.222682  0.210244  \n",
       "slp       0.093045  0.386784 -0.257748 -0.577537  1.000000 -0.080155 -0.104764  \n",
       "caa      -0.072042 -0.213177  0.115739  0.222682 -0.080155  1.000000  0.151832  \n",
       "thall    -0.011981 -0.096439  0.206754  0.210244 -0.104764  0.151832  1.000000  "
      ]
     },
     "execution_count": 216,
     "metadata": {},
     "output_type": "execute_result"
    }
   ],
   "source": [
    "corr_mat = dataset.drop(['output'],axis=1).corr()\n",
    "corr_mat"
   ]
  },
  {
   "cell_type": "markdown",
   "id": "hydraulic-roman",
   "metadata": {},
   "source": [
    "## Correlation Matrix Heatmap"
   ]
  },
  {
   "cell_type": "code",
   "execution_count": 217,
   "id": "radio-regulation",
   "metadata": {},
   "outputs": [
    {
     "data": {
      "image/png": "[encoded data removed]",
      "text/plain": [
       "<Figure size 720x504 with 2 Axes>"
      ]
     },
     "metadata": {
      "needs_background": "light"
     },
     "output_type": "display_data"
    }
   ],
   "source": [
    "plt.figure(figsize=(10,7))\n",
    "sns.heatmap(corr_mat,annot=True)\n",
    "plt.show()"
   ]
  },
  {
   "cell_type": "markdown",
   "id": "front-relief",
   "metadata": {},
   "source": [
    "## Data Pre-Processing"
   ]
  },
  {
   "cell_type": "markdown",
   "id": "blond-tribe",
   "metadata": {},
   "source": [
    "### X - Independent Variables"
   ]
  },
  {
   "cell_type": "code",
   "execution_count": 218,
   "id": "controversial-vision",
   "metadata": {},
   "outputs": [
    {
     "data": {
      "text/html": [
       "<div>\n",
       "<style scoped>\n",
       "    .dataframe tbody tr th:only-of-type {\n",
       "        vertical-align: middle;\n",
       "    }\n",
       "\n",
       "    .dataframe tbody tr th {\n",
       "        vertical-align: top;\n",
       "    }\n",
       "\n",
       "    .dataframe thead th {\n",
       "        text-align: right;\n",
       "    }\n",
       "</style>\n",
       "<table border=\"1\" class=\"dataframe\">\n",
       "  <thead>\n",
       "    <tr style=\"text-align: right;\">\n",
       "      <th></th>\n",
       "      <th>age</th>\n",
       "      <th>sex</th>\n",
       "      <th>cp</th>\n",
       "      <th>trtbps</th>\n",
       "      <th>chol</th>\n",
       "      <th>fbs</th>\n",
       "      <th>restecg</th>\n",
       "      <th>thalachh</th>\n",
       "      <th>exng</th>\n",
       "      <th>oldpeak</th>\n",
       "      <th>slp</th>\n",
       "      <th>caa</th>\n",
       "      <th>thall</th>\n",
       "    </tr>\n",
       "  </thead>\n",
       "  <tbody>\n",
       "    <tr>\n",
       "      <th>0</th>\n",
       "      <td>63</td>\n",
       "      <td>1</td>\n",
       "      <td>3</td>\n",
       "      <td>145</td>\n",
       "      <td>233</td>\n",
       "      <td>1</td>\n",
       "      <td>0</td>\n",
       "      <td>150</td>\n",
       "      <td>0</td>\n",
       "      <td>2.3</td>\n",
       "      <td>0</td>\n",
       "      <td>0</td>\n",
       "      <td>1</td>\n",
       "    </tr>\n",
       "    <tr>\n",
       "      <th>1</th>\n",
       "      <td>37</td>\n",
       "      <td>1</td>\n",
       "      <td>2</td>\n",
       "      <td>130</td>\n",
       "      <td>250</td>\n",
       "      <td>0</td>\n",
       "      <td>1</td>\n",
       "      <td>187</td>\n",
       "      <td>0</td>\n",
       "      <td>3.5</td>\n",
       "      <td>0</td>\n",
       "      <td>0</td>\n",
       "      <td>2</td>\n",
       "    </tr>\n",
       "    <tr>\n",
       "      <th>2</th>\n",
       "      <td>41</td>\n",
       "      <td>0</td>\n",
       "      <td>1</td>\n",
       "      <td>130</td>\n",
       "      <td>204</td>\n",
       "      <td>0</td>\n",
       "      <td>0</td>\n",
       "      <td>172</td>\n",
       "      <td>0</td>\n",
       "      <td>1.4</td>\n",
       "      <td>2</td>\n",
       "      <td>0</td>\n",
       "      <td>2</td>\n",
       "    </tr>\n",
       "    <tr>\n",
       "      <th>3</th>\n",
       "      <td>56</td>\n",
       "      <td>1</td>\n",
       "      <td>1</td>\n",
       "      <td>120</td>\n",
       "      <td>236</td>\n",
       "      <td>0</td>\n",
       "      <td>1</td>\n",
       "      <td>178</td>\n",
       "      <td>0</td>\n",
       "      <td>0.8</td>\n",
       "      <td>2</td>\n",
       "      <td>0</td>\n",
       "      <td>2</td>\n",
       "    </tr>\n",
       "    <tr>\n",
       "      <th>4</th>\n",
       "      <td>57</td>\n",
       "      <td>0</td>\n",
       "      <td>0</td>\n",
       "      <td>120</td>\n",
       "      <td>354</td>\n",
       "      <td>0</td>\n",
       "      <td>1</td>\n",
       "      <td>163</td>\n",
       "      <td>1</td>\n",
       "      <td>0.6</td>\n",
       "      <td>2</td>\n",
       "      <td>0</td>\n",
       "      <td>2</td>\n",
       "    </tr>\n",
       "  </tbody>\n",
       "</table>\n",
       "</div>"
      ],
      "text/plain": [
       "   age  sex  cp  trtbps  chol  fbs  restecg  thalachh  exng  oldpeak  slp  \\\n",
       "0   63    1   3     145   233    1        0       150     0      2.3    0   \n",
       "1   37    1   2     130   250    0        1       187     0      3.5    0   \n",
       "2   41    0   1     130   204    0        0       172     0      1.4    2   \n",
       "3   56    1   1     120   236    0        1       178     0      0.8    2   \n",
       "4   57    0   0     120   354    0        1       163     1      0.6    2   \n",
       "\n",
       "   caa  thall  \n",
       "0    0      1  \n",
       "1    0      2  \n",
       "2    0      2  \n",
       "3    0      2  \n",
       "4    0      2  "
      ]
     },
     "execution_count": 218,
     "metadata": {},
     "output_type": "execute_result"
    }
   ],
   "source": [
    "X = dataset.drop(['output'],axis=1)\n",
    "X.head()"
   ]
  },
  {
   "cell_type": "markdown",
   "id": "subject-worth",
   "metadata": {},
   "source": [
    "### y - Dependent Variable"
   ]
  },
  {
   "cell_type": "code",
   "execution_count": 219,
   "id": "federal-brook",
   "metadata": {},
   "outputs": [
    {
     "data": {
      "text/plain": [
       "0    1\n",
       "1    1\n",
       "2    1\n",
       "3    1\n",
       "4    1\n",
       "Name: output, dtype: int64"
      ]
     },
     "execution_count": 219,
     "metadata": {},
     "output_type": "execute_result"
    }
   ],
   "source": [
    "y = dataset['output']\n",
    "y.head()"
   ]
  },
  {
   "cell_type": "markdown",
   "id": "particular-license",
   "metadata": {},
   "source": [
    "## Splitting Dataset Into Training and Testing Data"
   ]
  },
  {
   "cell_type": "code",
   "execution_count": 220,
   "id": "contained-response",
   "metadata": {},
   "outputs": [],
   "source": [
    "from sklearn.model_selection import train_test_split as tts\n",
    "\n",
    "X_train, X_test, y_train, y_test = tts(X.values,y.values,test_size=0.2)"
   ]
  },
  {
   "cell_type": "code",
   "execution_count": 221,
   "id": "blocked-inspector",
   "metadata": {},
   "outputs": [
    {
     "data": {
      "text/plain": [
       "(242, 13)"
      ]
     },
     "execution_count": 221,
     "metadata": {},
     "output_type": "execute_result"
    }
   ],
   "source": [
    "X_train.shape"
   ]
  },
  {
   "cell_type": "code",
   "execution_count": 222,
   "id": "noble-philippines",
   "metadata": {},
   "outputs": [
    {
     "data": {
      "text/plain": [
       "(61, 13)"
      ]
     },
     "execution_count": 222,
     "metadata": {},
     "output_type": "execute_result"
    }
   ],
   "source": [
    "X_test.shape"
   ]
  },
  {
   "cell_type": "code",
   "execution_count": 223,
   "id": "referenced-dispute",
   "metadata": {},
   "outputs": [
    {
     "data": {
      "text/plain": [
       "(242,)"
      ]
     },
     "execution_count": 223,
     "metadata": {},
     "output_type": "execute_result"
    }
   ],
   "source": [
    "y_train.shape"
   ]
  },
  {
   "cell_type": "code",
   "execution_count": 224,
   "id": "offensive-reminder",
   "metadata": {},
   "outputs": [
    {
     "data": {
      "text/plain": [
       "(61,)"
      ]
     },
     "execution_count": 224,
     "metadata": {},
     "output_type": "execute_result"
    }
   ],
   "source": [
    "y_test.shape"
   ]
  },
  {
   "cell_type": "markdown",
   "id": "seven-stone",
   "metadata": {},
   "source": [
    "## Scaling Data"
   ]
  },
  {
   "cell_type": "code",
   "execution_count": 225,
   "id": "aquatic-square",
   "metadata": {},
   "outputs": [],
   "source": [
    "from sklearn.preprocessing import StandardScaler\n",
    "\n",
    "scaler = StandardScaler()\n",
    "scaler.fit(X_train)\n",
    "scaled_X_train = scaler.transform(X_train);"
   ]
  },
  {
   "cell_type": "code",
   "execution_count": 226,
   "id": "assured-cincinnati",
   "metadata": {},
   "outputs": [
    {
     "data": {
      "text/plain": [
       "array([[ 0.50813846,  0.68313005, -0.88846927, ..., -0.67807487,\n",
       "        -0.70247143,  1.1366664 ],\n",
       "       [ 2.1789198 , -1.46385011,  0.07139485, ...,  0.9963549 ,\n",
       "         0.2689462 , -0.52040148],\n",
       "       [-1.60818457,  0.68313005,  1.99112309, ...,  0.9963549 ,\n",
       "        -0.70247143,  1.1366664 ],\n",
       "       ...,\n",
       "       [-1.49679915,  0.68313005,  0.07139485, ...,  0.9963549 ,\n",
       "        -0.70247143, -0.52040148],\n",
       "       [ 0.84229473, -1.46385011, -0.88846927, ..., -0.67807487,\n",
       "        -0.70247143, -0.52040148],\n",
       "       [-0.38294492,  0.68313005, -0.88846927, ...,  0.9963549 ,\n",
       "        -0.70247143,  1.1366664 ]])"
      ]
     },
     "execution_count": 226,
     "metadata": {},
     "output_type": "execute_result"
    }
   ],
   "source": [
    "scaled_X_train"
   ]
  },
  {
   "cell_type": "code",
   "execution_count": 227,
   "id": "recovered-platinum",
   "metadata": {},
   "outputs": [
    {
     "data": {
      "text/plain": [
       "array([[-1.49679915e+00, -1.46385011e+00,  1.03125897e+00,\n",
       "        -1.09656693e+00,  3.89835023e-01, -4.18039809e-01,\n",
       "        -1.00223951e+00,  1.00664598e+00,  1.37147817e+00,\n",
       "        -8.87911273e-01,  9.96354904e-01, -7.02471427e-01,\n",
       "        -5.20401484e-01],\n",
       "       [-2.71559502e-01,  6.83130051e-01,  7.13948517e-02,\n",
       "         1.34065940e-01, -9.26995199e-01, -4.18039809e-01,\n",
       "         9.07539709e-01,  4.01300476e-01, -7.29140295e-01,\n",
       "        -1.76111594e-01,  9.96354904e-01,  2.68946204e-01,\n",
       "        -5.20401484e-01],\n",
       "       [ 1.62199268e+00, -1.46385011e+00,  1.99112309e+00,\n",
       "         4.69693088e-01, -1.80136267e-01, -4.18039809e-01,\n",
       "         9.07539709e-01,  9.86277216e-02, -7.29140295e-01,\n",
       "         7.13638005e-01,  9.96354904e-01,  1.24036383e+00,\n",
       "        -5.20401484e-01],\n",
       "       [ 1.73337811e+00,  6.83130051e-01,  1.03125897e+00,\n",
       "         1.58845025e+00,  4.09489206e-01, -4.18039809e-01,\n",
       "         9.07539709e-01, -1.58769191e+00,  1.37147817e+00,\n",
       "         1.69236256e+00, -6.78074865e-01,  2.68946204e-01,\n",
       "         1.13666640e+00],\n",
       "       [ 1.39922184e+00,  6.83130051e-01, -8.88469265e-01,\n",
       "        -3.69374781e-01,  1.14676469e-01,  2.39211668e+00,\n",
       "         9.07539709e-01,  6.17495300e-01, -7.29140295e-01,\n",
       "        -7.09961353e-01, -6.78074865e-01,  1.24036383e+00,\n",
       "         1.13666640e+00],\n",
       "       [ 3.96753035e-01,  6.83130051e-01,  1.03125897e+00,\n",
       "         2.21902246e-02, -4.74949003e-01, -4.18039809e-01,\n",
       "        -1.00223951e+00,  1.04988495e+00, -7.29140295e-01,\n",
       "         1.95928744e+00,  9.96354904e-01,  1.24036383e+00,\n",
       "         1.13666640e+00],\n",
       "       [ 1.51060726e+00, -1.46385011e+00,  1.03125897e+00,\n",
       "        -6.49064070e-01, -7.30453375e-01, -4.18039809e-01,\n",
       "        -1.00223951e+00, -1.45797501e+00, -7.29140295e-01,\n",
       "         4.46713125e-01, -6.78074865e-01, -7.02471427e-01,\n",
       "        -5.20401484e-01],\n",
       "       [-9.39872038e-01, -1.46385011e+00, -8.88469265e-01,\n",
       "         3.57817372e-01, -1.01519537e-01, -4.18039809e-01,\n",
       "        -1.00223951e+00,  1.41866686e-01,  1.37147817e+00,\n",
       "        -8.87911273e-01, -6.78074865e-01, -7.02471427e-01,\n",
       "        -5.20401484e-01],\n",
       "       [-9.39872038e-01,  6.83130051e-01,  1.03125897e+00,\n",
       "         1.02907167e+00, -3.37369726e-01, -4.18039809e-01,\n",
       "         9.07539709e-01, -7.43281380e-02, -7.29140295e-01,\n",
       "         2.31518728e+00, -6.78074865e-01, -7.02471427e-01,\n",
       "        -5.20401484e-01],\n",
       "       [-4.87886562e-02, -1.46385011e+00,  1.03125897e+00,\n",
       "         1.90003798e-01,  1.09738559e+00,  2.39211668e+00,\n",
       "         9.07539709e-01,  9.20168054e-01, -7.29140295e-01,\n",
       "        -8.87911273e-01,  9.96354904e-01, -7.02471427e-01,\n",
       "        -5.20401484e-01],\n",
       "       [-4.87886562e-02,  6.83130051e-01,  7.13948517e-02,\n",
       "         3.37846170e+00,  6.84647760e-01, -4.18039809e-01,\n",
       "        -1.00223951e+00,  2.00114218e+00, -7.29140295e-01,\n",
       "        -8.87911273e-01,  9.96354904e-01,  2.68946204e-01,\n",
       "         1.13666640e+00],\n",
       "       [-1.49679915e+00,  6.83130051e-01,  7.13948517e-02,\n",
       "        -6.49064070e-01, -1.79177923e+00, -4.18039809e-01,\n",
       "         9.07539709e-01,  1.43903563e+00, -7.29140295e-01,\n",
       "        -8.87911273e-01,  9.96354904e-01, -7.02471427e-01,\n",
       "        -5.20401484e-01],\n",
       "       [ 1.28783642e+00,  6.83130051e-01,  7.13948517e-02,\n",
       "         1.58845025e+00, -4.25569900e-02, -4.18039809e-01,\n",
       "         9.07539709e-01, -1.24178019e+00,  1.37147817e+00,\n",
       "        -8.87911273e-01, -6.78074865e-01,  2.21178146e+00,\n",
       "        -2.17746937e+00],\n",
       "       [-4.94330347e-01, -1.46385011e+00, -8.88469265e-01,\n",
       "        -1.20844265e+00,  1.14676469e-01, -4.18039809e-01,\n",
       "        -1.00223951e+00,  4.44539441e-01, -7.29140295e-01,\n",
       "        -8.87911273e-01,  9.96354904e-01, -7.02471427e-01,\n",
       "        -5.20401484e-01],\n",
       "       [ 1.73982189e-01, -1.46385011e+00, -8.88469265e-01,\n",
       "         1.34065940e-01,  3.16107475e+00, -4.18039809e-01,\n",
       "        -1.00223951e+00,  5.53887567e-02,  1.37147817e+00,\n",
       "         8.02612965e-01, -6.78074865e-01,  1.24036383e+00,\n",
       "         1.13666640e+00],\n",
       "       [-2.83342422e+00,  6.83130051e-01,  7.13948517e-02,\n",
       "        -8.96854911e-02, -8.68032652e-01, -4.18039809e-01,\n",
       "        -1.00223951e+00,  2.30381493e+00, -7.29140295e-01,\n",
       "        -8.87911273e-01,  9.96354904e-01, -7.02471427e-01,\n",
       "        -5.20401484e-01],\n",
       "       [ 8.42294725e-01,  6.83130051e-01,  7.13948517e-02,\n",
       "        -6.49064070e-01,  6.45339395e-01, -4.18039809e-01,\n",
       "        -1.00223951e+00, -1.97684259e+00, -7.29140295e-01,\n",
       "         3.57738165e-01, -6.78074865e-01,  2.68946204e-01,\n",
       "         1.13666640e+00],\n",
       "       [-1.94234084e+00,  6.83130051e-01,  1.03125897e+00,\n",
       "        -8.96854911e-02,  3.60597397e-02, -4.18039809e-01,\n",
       "         9.07539709e-01,  1.65523046e+00, -7.29140295e-01,\n",
       "         2.22621232e+00, -2.35250463e+00, -7.02471427e-01,\n",
       "        -5.20401484e-01],\n",
       "       [ 1.73337811e+00,  6.83130051e-01, -8.88469265e-01,\n",
       "         7.49382377e-01, -1.45765812e+00, -4.18039809e-01,\n",
       "         9.07539709e-01, -1.02558537e+00,  1.37147817e+00,\n",
       "         1.42543768e+00, -2.35250463e+00, -7.02471427e-01,\n",
       "         1.13666640e+00],\n",
       "       [-3.82944924e-01,  6.83130051e-01, -8.88469265e-01,\n",
       "         4.69693088e-01,  2.52255746e-01, -4.18039809e-01,\n",
       "        -1.00223951e+00,  1.61199149e+00,  1.37147817e+00,\n",
       "        -8.87911273e-01,  9.96354904e-01, -7.02471427e-01,\n",
       "        -5.20401484e-01],\n",
       "       [ 8.42294725e-01,  6.83130051e-01,  1.03125897e+00,\n",
       "        -8.96854911e-02, -3.37369726e-01, -4.18039809e-01,\n",
       "         9.07539709e-01, -1.17567103e-01, -7.29140295e-01,\n",
       "         7.13638005e-01, -6.78074865e-01,  2.21178146e+00,\n",
       "         1.13666640e+00],\n",
       "       [ 1.06506557e+00,  6.83130051e-01,  1.03125897e+00,\n",
       "        -3.69374781e-01,  1.19565650e+00, -4.18039809e-01,\n",
       "         9.07539709e-01, -7.66151576e-01,  1.37147817e+00,\n",
       "         7.13638005e-01, -6.78074865e-01, -7.02471427e-01,\n",
       "         1.13666640e+00],\n",
       "       [-3.82944924e-01, -1.46385011e+00,  1.03125897e+00,\n",
       "        -6.49064070e-01,  9.20497949e-01, -4.18039809e-01,\n",
       "        -1.00223951e+00,  3.58061511e-01, -7.29140295e-01,\n",
       "        -3.54061514e-01,  9.96354904e-01, -7.02471427e-01,\n",
       "        -5.20401484e-01],\n",
       "       [-1.16264288e+00,  6.83130051e-01,  7.13948517e-02,\n",
       "        -8.96854911e-02, -5.73219915e-01, -4.18039809e-01,\n",
       "        -1.00223951e+00,  1.69846942e+00, -7.29140295e-01,\n",
       "        -8.87911273e-01,  9.96354904e-01, -7.02471427e-01,\n",
       "        -5.20401484e-01],\n",
       "       [-9.39872038e-01, -1.46385011e+00,  1.03125897e+00,\n",
       "         5.81568803e-01, -1.39869558e+00, -4.18039809e-01,\n",
       "        -1.00223951e+00,  4.87778406e-01,  1.37147817e+00,\n",
       "         3.57738165e-01, -2.35250463e+00, -7.02471427e-01,\n",
       "        -5.20401484e-01],\n",
       "       [ 3.96753035e-01, -1.46385011e+00,  7.13948517e-02,\n",
       "         2.45941656e-01,  1.39219833e+00,  2.39211668e+00,\n",
       "        -1.00223951e+00,  1.41866686e-01, -7.29140295e-01,\n",
       "        -8.87911273e-01,  9.96354904e-01,  1.24036383e+00,\n",
       "        -5.20401484e-01],\n",
       "       [-4.87886562e-02, -1.46385011e+00,  1.03125897e+00,\n",
       "         1.58845025e+00, -9.26995199e-01, -4.18039809e-01,\n",
       "         9.07539709e-01,  6.17495300e-01, -7.29140295e-01,\n",
       "        -8.87911273e-01,  9.96354904e-01,  2.68946204e-01,\n",
       "        -5.20401484e-01],\n",
       "       [ 7.30909303e-01,  6.83130051e-01, -8.88469265e-01,\n",
       "         3.57817372e-01, -1.61489158e+00, -4.18039809e-01,\n",
       "        -1.00223951e+00, -1.02558537e+00,  1.37147817e+00,\n",
       "         2.31518728e+00, -6.78074865e-01,  2.68946204e-01,\n",
       "        -5.20401484e-01],\n",
       "       [ 2.85367612e-01,  6.83130051e-01,  1.03125897e+00,\n",
       "         1.02907167e+00, -2.40105888e+00,  2.39211668e+00,\n",
       "         9.07539709e-01,  1.04988495e+00, -7.29140295e-01,\n",
       "        -7.09961353e-01,  9.96354904e-01,  2.68946204e-01,\n",
       "         1.13666640e+00],\n",
       "       [-2.16511169e+00, -1.46385011e+00, -8.88469265e-01,\n",
       "         3.57817372e-01, -1.28077048e+00, -4.18039809e-01,\n",
       "         9.07539709e-01,  1.43903563e+00, -7.29140295e-01,\n",
       "         3.57738165e-01,  9.96354904e-01, -7.02471427e-01,\n",
       "        -5.20401484e-01],\n",
       "       [-2.71559502e-01,  6.83130051e-01, -8.88469265e-01,\n",
       "        -2.01561207e-01, -8.68032652e-01,  2.39211668e+00,\n",
       "         9.07539709e-01,  3.14822546e-01,  1.37147817e+00,\n",
       "         1.83832562e-03, -6.78074865e-01, -7.02471427e-01,\n",
       "        -3.83453725e+00],\n",
       "       [-6.05715770e-01,  6.83130051e-01,  1.03125897e+00,\n",
       "        -6.49064070e-01, -1.18249957e+00, -4.18039809e-01,\n",
       "         9.07539709e-01, -4.20239857e-01, -7.29140295e-01,\n",
       "         8.91587924e-01, -6.78074865e-01,  2.21178146e+00,\n",
       "         1.13666640e+00],\n",
       "       [ 2.85367612e-01,  6.83130051e-01, -8.88469265e-01,\n",
       "         4.69693088e-01, -1.10388284e+00, -4.18039809e-01,\n",
       "         9.07539709e-01, -3.10891731e-02, -7.29140295e-01,\n",
       "        -5.32011434e-01, -6.78074865e-01, -7.02471427e-01,\n",
       "        -2.17746937e+00],\n",
       "       [ 1.84476353e+00, -1.46385011e+00, -8.88469265e-01,\n",
       "        -1.09656693e+00, -1.94901269e+00, -4.18039809e-01,\n",
       "         9.07539709e-01, -1.02558537e+00, -7.29140295e-01,\n",
       "         5.35688085e-01, -6.78074865e-01, -7.02471427e-01,\n",
       "        -5.20401484e-01],\n",
       "       [-1.60174079e-01,  6.83130051e-01, -8.88469265e-01,\n",
       "         4.69693088e-01, -8.87686834e-01,  2.39211668e+00,\n",
       "        -1.00223951e+00,  2.71583581e-01,  1.37147817e+00,\n",
       "         1.87031248e+00, -2.35250463e+00, -7.02471427e-01,\n",
       "         1.13666640e+00],\n",
       "       [ 1.06506557e+00,  6.83130051e-01,  1.03125897e+00,\n",
       "         4.69693088e-01,  1.70666525e+00, -4.18039809e-01,\n",
       "         9.07539709e-01,  4.01300476e-01, -7.29140295e-01,\n",
       "        -8.87911273e-01,  9.96354904e-01, -7.02471427e-01,\n",
       "        -5.20401484e-01],\n",
       "       [ 1.17645099e+00,  6.83130051e-01, -8.88469265e-01,\n",
       "         1.90003798e-01,  1.14676469e-01, -4.18039809e-01,\n",
       "        -1.00223951e+00, -9.39107436e-01, -7.29140295e-01,\n",
       "         1.60338760e+00, -6.78074865e-01,  2.68946204e-01,\n",
       "         1.13666640e+00],\n",
       "       [ 3.96753035e-01,  6.83130051e-01, -8.88469265e-01,\n",
       "        -9.84691217e-01,  1.37254414e+00, -4.18039809e-01,\n",
       "         2.81731892e+00, -3.77000892e-01, -7.29140295e-01,\n",
       "         3.02698696e+00, -2.35250463e+00,  2.21178146e+00,\n",
       "        -2.17746937e+00],\n",
       "       [ 1.06506557e+00,  6.83130051e-01,  1.99112309e+00,\n",
       "        -1.20844265e+00, -7.30453375e-01, -4.18039809e-01,\n",
       "        -1.00223951e+00, -2.04045033e-01,  1.37147817e+00,\n",
       "         7.13638005e-01, -6.78074865e-01, -7.02471427e-01,\n",
       "        -5.20401484e-01],\n",
       "       [-8.28486615e-01,  6.83130051e-01,  1.03125897e+00,\n",
       "        -1.32031836e+00, -1.01519537e-01, -4.18039809e-01,\n",
       "         9.07539709e-01,  1.41866686e-01, -7.29140295e-01,\n",
       "        -8.87911273e-01,  9.96354904e-01, -7.02471427e-01,\n",
       "        -5.20401484e-01],\n",
       "       [-1.05125746e+00,  6.83130051e-01,  1.99112309e+00,\n",
       "        -1.20844265e+00,  3.11218294e-01, -4.18039809e-01,\n",
       "         9.07539709e-01, -7.22912611e-01, -7.29140295e-01,\n",
       "         1.79788245e-01, -6.78074865e-01, -7.02471427e-01,\n",
       "         1.13666640e+00],\n",
       "       [-7.17101192e-01,  6.83130051e-01, -8.88469265e-01,\n",
       "        -8.96854911e-02,  1.53984834e-01,  2.39211668e+00,\n",
       "        -1.00223951e+00,  5.53887567e-02,  1.37147817e+00,\n",
       "        -8.87911273e-01,  9.96354904e-01,  1.24036383e+00,\n",
       "         1.13666640e+00],\n",
       "       [ 8.42294725e-01, -1.46385011e+00, -8.88469265e-01,\n",
       "         4.69693088e-01,  3.89835023e-01, -4.18039809e-01,\n",
       "        -1.00223951e+00,  4.87778406e-01, -7.29140295e-01,\n",
       "         2.31518728e+00, -2.35250463e+00,  1.24036383e+00,\n",
       "        -5.20401484e-01],\n",
       "       [ 3.96753035e-01,  6.83130051e-01,  1.03125897e+00,\n",
       "         4.69693088e-01, -7.30453375e-01,  2.39211668e+00,\n",
       "        -1.00223951e+00,  7.03973230e-01, -7.29140295e-01,\n",
       "        -8.87911273e-01,  9.96354904e-01, -7.02471427e-01,\n",
       "        -5.20401484e-01],\n",
       "       [-1.38541373e+00,  6.83130051e-01,  1.03125897e+00,\n",
       "        -8.96854911e-02, -1.33973303e+00, -4.18039809e-01,\n",
       "         9.07539709e-01,  5.53887567e-02, -7.29140295e-01,\n",
       "        -8.87911273e-01,  9.96354904e-01, -7.02471427e-01,\n",
       "        -5.20401484e-01],\n",
       "       [-4.87886562e-02,  6.83130051e-01, -8.88469265e-01,\n",
       "        -6.49064070e-01, -1.18249957e+00, -4.18039809e-01,\n",
       "         9.07539709e-01, -1.54445294e+00, -7.29140295e-01,\n",
       "         3.57738165e-01, -6.78074865e-01,  2.68946204e-01,\n",
       "         1.13666640e+00],\n",
       "       [-9.39872038e-01, -1.46385011e+00,  7.13948517e-02,\n",
       "        -1.48813194e+00, -8.68032652e-01, -4.18039809e-01,\n",
       "         9.07539709e-01,  1.00664598e+00, -7.29140295e-01,\n",
       "        -8.87911273e-01,  9.96354904e-01, -7.02471427e-01,\n",
       "        -5.20401484e-01],\n",
       "       [-4.87886562e-02,  6.83130051e-01, -8.88469265e-01,\n",
       "         4.69693088e-01, -1.80136267e-01, -4.18039809e-01,\n",
       "         9.07539709e-01,  4.87778406e-01, -7.29140295e-01,\n",
       "         1.79788245e-01,  9.96354904e-01, -7.02471427e-01,\n",
       "        -5.20401484e-01],\n",
       "       [-4.87886562e-02,  6.83130051e-01,  1.03125897e+00,\n",
       "         1.02907167e+00, -3.17715544e-01, -4.18039809e-01,\n",
       "        -1.00223951e+00,  7.03973230e-01, -7.29140295e-01,\n",
       "         5.35688085e-01,  9.96354904e-01, -7.02471427e-01,\n",
       "         1.13666640e+00],\n",
       "       [-1.49679915e+00, -1.46385011e+00,  7.13948517e-02,\n",
       "        -8.96854911e-02, -8.68032652e-01, -4.18039809e-01,\n",
       "        -1.00223951e+00,  1.00664598e+00, -7.29140295e-01,\n",
       "         3.57738165e-01,  9.96354904e-01, -7.02471427e-01,\n",
       "        -5.20401484e-01],\n",
       "       [-9.39872038e-01,  6.83130051e-01,  7.13948517e-02,\n",
       "        -1.71188337e+00, -1.00561193e+00,  2.39211668e+00,\n",
       "         9.07539709e-01,  3.14822546e-01, -7.29140295e-01,\n",
       "        -8.87911273e-01,  9.96354904e-01, -7.02471427e-01,\n",
       "         1.13666640e+00],\n",
       "       [ 9.53680148e-01, -1.46385011e+00, -8.88469265e-01,\n",
       "         1.02907167e+00,  3.12176638e+00, -4.18039809e-01,\n",
       "        -1.00223951e+00,  2.28344616e-01, -7.29140295e-01,\n",
       "         2.67108712e+00, -6.78074865e-01,  2.21178146e+00,\n",
       "         1.13666640e+00],\n",
       "       [-4.94330347e-01,  6.83130051e-01,  1.03125897e+00,\n",
       "         4.69693088e-01, -2.98061362e-01, -4.18039809e-01,\n",
       "         9.07539709e-01,  6.17495300e-01, -7.29140295e-01,\n",
       "        -3.54061514e-01, -6.78074865e-01,  2.68946204e-01,\n",
       "         1.13666640e+00],\n",
       "       [ 9.53680148e-01, -1.46385011e+00,  7.13948517e-02,\n",
       "         4.69693088e-01, -1.04492029e+00, -4.18039809e-01,\n",
       "         9.07539709e-01,  1.30931874e+00, -7.29140295e-01,\n",
       "        -8.87911273e-01,  9.96354904e-01,  1.24036383e+00,\n",
       "        -5.20401484e-01],\n",
       "       [ 2.85367612e-01,  6.83130051e-01,  1.03125897e+00,\n",
       "        -2.01561207e-01, -3.76678091e-01, -4.18039809e-01,\n",
       "        -1.00223951e+00,  5.53887567e-02, -7.29140295e-01,\n",
       "        -5.32011434e-01, -6.78074865e-01,  2.68946204e-01,\n",
       "         1.13666640e+00],\n",
       "       [-1.49679915e+00,  6.83130051e-01,  1.03125897e+00,\n",
       "        -8.96854911e-02, -6.71490828e-01, -4.18039809e-01,\n",
       "        -1.00223951e+00,  8.33690125e-01, -7.29140295e-01,\n",
       "         8.91587924e-01, -6.78074865e-01, -7.02471427e-01,\n",
       "        -5.20401484e-01],\n",
       "       [ 1.06506557e+00, -1.46385011e+00,  1.03125897e+00,\n",
       "         4.69693088e-01,  1.27427323e+00, -4.18039809e-01,\n",
       "         9.07539709e-01, -6.79673646e-01, -7.29140295e-01,\n",
       "        -7.09961353e-01,  9.96354904e-01, -7.02471427e-01,\n",
       "         1.13666640e+00],\n",
       "       [-9.39872038e-01,  6.83130051e-01, -8.88469265e-01,\n",
       "        -6.49064070e-01,  1.64055572e-02, -4.18039809e-01,\n",
       "        -1.00223951e+00, -2.04045033e-01, -7.29140295e-01,\n",
       "        -1.76111594e-01,  9.96354904e-01, -7.02471427e-01,\n",
       "         1.13666640e+00],\n",
       "       [-4.87886562e-02,  6.83130051e-01, -8.88469265e-01,\n",
       "        -5.37188354e-01,  7.43610307e-01, -4.18039809e-01,\n",
       "        -1.00223951e+00, -1.41473605e+00,  1.37147817e+00,\n",
       "         1.95928744e+00, -6.78074865e-01,  1.24036383e+00,\n",
       "        -5.20401484e-01],\n",
       "       [-4.87886562e-02,  6.83130051e-01,  1.03125897e+00,\n",
       "        -3.69374781e-01,  4.88105935e-01, -4.18039809e-01,\n",
       "        -1.00223951e+00,  1.41866686e-01, -7.29140295e-01,\n",
       "        -4.43036474e-01, -2.35250463e+00,  2.68946204e-01,\n",
       "        -5.20401484e-01],\n",
       "       [ 3.96753035e-01,  6.83130051e-01, -8.88469265e-01,\n",
       "        -1.76782123e+00, -2.78407179e-01, -4.18039809e-01,\n",
       "         9.07539709e-01,  3.14822546e-01, -7.29140295e-01,\n",
       "        -7.98936313e-01,  9.96354904e-01,  2.68946204e-01,\n",
       "         1.13666640e+00]])"
      ]
     },
     "execution_count": 227,
     "metadata": {},
     "output_type": "execute_result"
    }
   ],
   "source": [
    "scaled_X_test = scaler.transform(X_test)\n",
    "scaled_X_test"
   ]
  },
  {
   "cell_type": "markdown",
   "id": "tutorial-remedy",
   "metadata": {},
   "source": [
    "### Total X Scaling"
   ]
  },
  {
   "cell_type": "code",
   "execution_count": 234,
   "id": "appreciated-thing",
   "metadata": {},
   "outputs": [],
   "source": [
    "total_scaler = StandardScaler()\n",
    "total_scaler.fit(X.values)\n",
    "scaled_X = total_scaler.transform(X.values)"
   ]
  },
  {
   "cell_type": "markdown",
   "id": "listed-management",
   "metadata": {},
   "source": [
    "## Training Random Forest Model"
   ]
  },
  {
   "cell_type": "code",
   "execution_count": 228,
   "id": "subjective-import",
   "metadata": {},
   "outputs": [
    {
     "data": {
      "text/plain": [
       "RandomForestClassifier()"
      ]
     },
     "execution_count": 228,
     "metadata": {},
     "output_type": "execute_result"
    }
   ],
   "source": [
    "from sklearn.ensemble import RandomForestClassifier as RFC\n",
    "\n",
    "RFC_model = RFC()\n",
    "RFC_model.fit(scaled_X_train,y_train)"
   ]
  },
  {
   "cell_type": "markdown",
   "id": "early-seventh",
   "metadata": {},
   "source": [
    "### Randeom Forest Model Score"
   ]
  },
  {
   "cell_type": "code",
   "execution_count": 229,
   "id": "industrial-clark",
   "metadata": {},
   "outputs": [
    {
     "name": "stdout",
     "output_type": "stream",
     "text": [
      "Random Forest Heart Attack Model Score : 0.8032786885245902\n"
     ]
    }
   ],
   "source": [
    "print(\"Random Forest Heart Attack Model Score : {}\".format(RFC_model.score(scaled_X_test,y_test)))"
   ]
  },
  {
   "cell_type": "markdown",
   "id": "statutory-property",
   "metadata": {},
   "source": [
    "### Cross Validation Score"
   ]
  },
  {
   "cell_type": "code",
   "execution_count": 236,
   "id": "silver-subscription",
   "metadata": {},
   "outputs": [
    {
     "data": {
      "text/plain": [
       "array([0.80327869, 0.86885246, 0.78688525, 0.8       , 0.8       ])"
      ]
     },
     "execution_count": 236,
     "metadata": {},
     "output_type": "execute_result"
    }
   ],
   "source": [
    "from sklearn.model_selection import cross_val_score\n",
    "\n",
    "cross_val_score(RFC(),scaled_X,y.values,cv=5)"
   ]
  },
  {
   "cell_type": "markdown",
   "id": "marked-argument",
   "metadata": {},
   "source": [
    "### Grid Search (Hyper-Parameter Tuning)"
   ]
  },
  {
   "cell_type": "code",
   "execution_count": 266,
   "id": "environmental-estimate",
   "metadata": {},
   "outputs": [
    {
     "data": {
      "text/html": [
       "<div>\n",
       "<style scoped>\n",
       "    .dataframe tbody tr th:only-of-type {\n",
       "        vertical-align: middle;\n",
       "    }\n",
       "\n",
       "    .dataframe tbody tr th {\n",
       "        vertical-align: top;\n",
       "    }\n",
       "\n",
       "    .dataframe thead th {\n",
       "        text-align: right;\n",
       "    }\n",
       "</style>\n",
       "<table border=\"1\" class=\"dataframe\">\n",
       "  <thead>\n",
       "    <tr style=\"text-align: right;\">\n",
       "      <th></th>\n",
       "      <th>mean_fit_time</th>\n",
       "      <th>std_fit_time</th>\n",
       "      <th>mean_score_time</th>\n",
       "      <th>std_score_time</th>\n",
       "      <th>param_max_depth</th>\n",
       "      <th>param_n_estimators</th>\n",
       "      <th>params</th>\n",
       "      <th>split0_test_score</th>\n",
       "      <th>split1_test_score</th>\n",
       "      <th>split2_test_score</th>\n",
       "      <th>split3_test_score</th>\n",
       "      <th>split4_test_score</th>\n",
       "      <th>split5_test_score</th>\n",
       "      <th>split6_test_score</th>\n",
       "      <th>split7_test_score</th>\n",
       "      <th>split8_test_score</th>\n",
       "      <th>split9_test_score</th>\n",
       "      <th>mean_test_score</th>\n",
       "      <th>std_test_score</th>\n",
       "      <th>rank_test_score</th>\n",
       "    </tr>\n",
       "  </thead>\n",
       "  <tbody>\n",
       "    <tr>\n",
       "      <th>0</th>\n",
       "      <td>0.102914</td>\n",
       "      <td>0.007479</td>\n",
       "      <td>0.004860</td>\n",
       "      <td>0.004541</td>\n",
       "      <td>10</td>\n",
       "      <td>100</td>\n",
       "      <td>{'max_depth': 10, 'n_estimators': 100}</td>\n",
       "      <td>0.903226</td>\n",
       "      <td>0.806452</td>\n",
       "      <td>0.870968</td>\n",
       "      <td>0.866667</td>\n",
       "      <td>0.866667</td>\n",
       "      <td>0.800000</td>\n",
       "      <td>0.766667</td>\n",
       "      <td>0.866667</td>\n",
       "      <td>0.700000</td>\n",
       "      <td>0.800000</td>\n",
       "      <td>0.824731</td>\n",
       "      <td>0.058362</td>\n",
       "      <td>19</td>\n",
       "    </tr>\n",
       "    <tr>\n",
       "      <th>1</th>\n",
       "      <td>0.214203</td>\n",
       "      <td>0.018996</td>\n",
       "      <td>0.016839</td>\n",
       "      <td>0.004061</td>\n",
       "      <td>10</td>\n",
       "      <td>200</td>\n",
       "      <td>{'max_depth': 10, 'n_estimators': 200}</td>\n",
       "      <td>0.903226</td>\n",
       "      <td>0.838710</td>\n",
       "      <td>0.838710</td>\n",
       "      <td>0.933333</td>\n",
       "      <td>0.866667</td>\n",
       "      <td>0.833333</td>\n",
       "      <td>0.766667</td>\n",
       "      <td>0.833333</td>\n",
       "      <td>0.733333</td>\n",
       "      <td>0.833333</td>\n",
       "      <td>0.838065</td>\n",
       "      <td>0.055022</td>\n",
       "      <td>10</td>\n",
       "    </tr>\n",
       "    <tr>\n",
       "      <th>2</th>\n",
       "      <td>0.301690</td>\n",
       "      <td>0.015064</td>\n",
       "      <td>0.019283</td>\n",
       "      <td>0.002598</td>\n",
       "      <td>10</td>\n",
       "      <td>300</td>\n",
       "      <td>{'max_depth': 10, 'n_estimators': 300}</td>\n",
       "      <td>0.903226</td>\n",
       "      <td>0.806452</td>\n",
       "      <td>0.838710</td>\n",
       "      <td>0.933333</td>\n",
       "      <td>0.900000</td>\n",
       "      <td>0.833333</td>\n",
       "      <td>0.766667</td>\n",
       "      <td>0.833333</td>\n",
       "      <td>0.733333</td>\n",
       "      <td>0.766667</td>\n",
       "      <td>0.831505</td>\n",
       "      <td>0.062399</td>\n",
       "      <td>16</td>\n",
       "    </tr>\n",
       "    <tr>\n",
       "      <th>3</th>\n",
       "      <td>0.400957</td>\n",
       "      <td>0.020530</td>\n",
       "      <td>0.027364</td>\n",
       "      <td>0.003390</td>\n",
       "      <td>10</td>\n",
       "      <td>400</td>\n",
       "      <td>{'max_depth': 10, 'n_estimators': 400}</td>\n",
       "      <td>0.870968</td>\n",
       "      <td>0.806452</td>\n",
       "      <td>0.838710</td>\n",
       "      <td>0.900000</td>\n",
       "      <td>0.866667</td>\n",
       "      <td>0.833333</td>\n",
       "      <td>0.733333</td>\n",
       "      <td>0.833333</td>\n",
       "      <td>0.733333</td>\n",
       "      <td>0.800000</td>\n",
       "      <td>0.821613</td>\n",
       "      <td>0.052403</td>\n",
       "      <td>20</td>\n",
       "    </tr>\n",
       "    <tr>\n",
       "      <th>4</th>\n",
       "      <td>0.534973</td>\n",
       "      <td>0.036476</td>\n",
       "      <td>0.035543</td>\n",
       "      <td>0.005067</td>\n",
       "      <td>10</td>\n",
       "      <td>500</td>\n",
       "      <td>{'max_depth': 10, 'n_estimators': 500}</td>\n",
       "      <td>0.870968</td>\n",
       "      <td>0.838710</td>\n",
       "      <td>0.838710</td>\n",
       "      <td>0.900000</td>\n",
       "      <td>0.866667</td>\n",
       "      <td>0.833333</td>\n",
       "      <td>0.733333</td>\n",
       "      <td>0.833333</td>\n",
       "      <td>0.733333</td>\n",
       "      <td>0.833333</td>\n",
       "      <td>0.828172</td>\n",
       "      <td>0.051733</td>\n",
       "      <td>17</td>\n",
       "    </tr>\n",
       "  </tbody>\n",
       "</table>\n",
       "</div>"
      ],
      "text/plain": [
       "   mean_fit_time  std_fit_time  mean_score_time  std_score_time  \\\n",
       "0       0.102914      0.007479         0.004860        0.004541   \n",
       "1       0.214203      0.018996         0.016839        0.004061   \n",
       "2       0.301690      0.015064         0.019283        0.002598   \n",
       "3       0.400957      0.020530         0.027364        0.003390   \n",
       "4       0.534973      0.036476         0.035543        0.005067   \n",
       "\n",
       "  param_max_depth param_n_estimators                                  params  \\\n",
       "0              10                100  {'max_depth': 10, 'n_estimators': 100}   \n",
       "1              10                200  {'max_depth': 10, 'n_estimators': 200}   \n",
       "2              10                300  {'max_depth': 10, 'n_estimators': 300}   \n",
       "3              10                400  {'max_depth': 10, 'n_estimators': 400}   \n",
       "4              10                500  {'max_depth': 10, 'n_estimators': 500}   \n",
       "\n",
       "   split0_test_score  split1_test_score  split2_test_score  split3_test_score  \\\n",
       "0           0.903226           0.806452           0.870968           0.866667   \n",
       "1           0.903226           0.838710           0.838710           0.933333   \n",
       "2           0.903226           0.806452           0.838710           0.933333   \n",
       "3           0.870968           0.806452           0.838710           0.900000   \n",
       "4           0.870968           0.838710           0.838710           0.900000   \n",
       "\n",
       "   split4_test_score  split5_test_score  split6_test_score  split7_test_score  \\\n",
       "0           0.866667           0.800000           0.766667           0.866667   \n",
       "1           0.866667           0.833333           0.766667           0.833333   \n",
       "2           0.900000           0.833333           0.766667           0.833333   \n",
       "3           0.866667           0.833333           0.733333           0.833333   \n",
       "4           0.866667           0.833333           0.733333           0.833333   \n",
       "\n",
       "   split8_test_score  split9_test_score  mean_test_score  std_test_score  \\\n",
       "0           0.700000           0.800000         0.824731        0.058362   \n",
       "1           0.733333           0.833333         0.838065        0.055022   \n",
       "2           0.733333           0.766667         0.831505        0.062399   \n",
       "3           0.733333           0.800000         0.821613        0.052403   \n",
       "4           0.733333           0.833333         0.828172        0.051733   \n",
       "\n",
       "   rank_test_score  \n",
       "0               19  \n",
       "1               10  \n",
       "2               16  \n",
       "3               20  \n",
       "4               17  "
      ]
     },
     "execution_count": 266,
     "metadata": {},
     "output_type": "execute_result"
    }
   ],
   "source": [
    "from sklearn.model_selection import GridSearchCV\n",
    "\n",
    "RFC_grid_search = GridSearchCV(RFC(),{\n",
    "    'n_estimators': [100,200,300,400,500],\n",
    "    'max_depth': [10,5,3,2]\n",
    "},cv=10,return_train_score=False)\n",
    "RFC_grid_search.fit(scaled_X,y.values)\n",
    "\n",
    "gs_df = pd.DataFrame(RFC_grid_search.cv_results_)\n",
    "gs_df.head()"
   ]
  },
  {
   "cell_type": "markdown",
   "id": "acting-professor",
   "metadata": {},
   "source": [
    "### Best Parameters For Model"
   ]
  },
  {
   "cell_type": "code",
   "execution_count": 267,
   "id": "historical-cosmetic",
   "metadata": {},
   "outputs": [
    {
     "data": {
      "text/html": [
       "<div>\n",
       "<style scoped>\n",
       "    .dataframe tbody tr th:only-of-type {\n",
       "        vertical-align: middle;\n",
       "    }\n",
       "\n",
       "    .dataframe tbody tr th {\n",
       "        vertical-align: top;\n",
       "    }\n",
       "\n",
       "    .dataframe thead th {\n",
       "        text-align: right;\n",
       "    }\n",
       "</style>\n",
       "<table border=\"1\" class=\"dataframe\">\n",
       "  <thead>\n",
       "    <tr style=\"text-align: right;\">\n",
       "      <th></th>\n",
       "      <th>param_n_estimators</th>\n",
       "      <th>param_max_depth</th>\n",
       "      <th>mean_test_score</th>\n",
       "    </tr>\n",
       "  </thead>\n",
       "  <tbody>\n",
       "    <tr>\n",
       "      <th>8</th>\n",
       "      <td>400</td>\n",
       "      <td>5</td>\n",
       "      <td>0.844839</td>\n",
       "    </tr>\n",
       "  </tbody>\n",
       "</table>\n",
       "</div>"
      ],
      "text/plain": [
       "  param_n_estimators param_max_depth  mean_test_score\n",
       "8                400               5         0.844839"
      ]
     },
     "execution_count": 267,
     "metadata": {},
     "output_type": "execute_result"
    }
   ],
   "source": [
    "df = gs_df[['param_n_estimators','param_max_depth','mean_test_score']]\n",
    "df.loc[df['mean_test_score'] == df['mean_test_score'].max()]"
   ]
  },
  {
   "cell_type": "markdown",
   "id": "typical-package",
   "metadata": {},
   "source": [
    "## Training Support Vector Classifier"
   ]
  },
  {
   "cell_type": "code",
   "execution_count": 230,
   "id": "roman-plenty",
   "metadata": {},
   "outputs": [
    {
     "data": {
      "text/plain": [
       "SVC()"
      ]
     },
     "execution_count": 230,
     "metadata": {},
     "output_type": "execute_result"
    }
   ],
   "source": [
    "from sklearn.svm import SVC\n",
    "\n",
    "SVC_model = SVC()\n",
    "SVC_model.fit(scaled_X_train,y_train)"
   ]
  },
  {
   "cell_type": "markdown",
   "id": "sophisticated-record",
   "metadata": {},
   "source": [
    "### Support Vector Classifier Model Score"
   ]
  },
  {
   "cell_type": "code",
   "execution_count": 231,
   "id": "impossible-retreat",
   "metadata": {},
   "outputs": [
    {
     "name": "stdout",
     "output_type": "stream",
     "text": [
      "Support Vector Classifier Heart Attack Model Score : 0.8360655737704918\n"
     ]
    }
   ],
   "source": [
    "print(\"Support Vector Classifier Heart Attack Model Score : {}\".format(SVC_model.score(scaled_X_test,y_test)))"
   ]
  },
  {
   "cell_type": "markdown",
   "id": "strange-glucose",
   "metadata": {},
   "source": [
    "### Cross Validation Score"
   ]
  },
  {
   "cell_type": "code",
   "execution_count": 237,
   "id": "advisory-insert",
   "metadata": {},
   "outputs": [
    {
     "data": {
      "text/plain": [
       "array([0.80327869, 0.8852459 , 0.83606557, 0.83333333, 0.73333333])"
      ]
     },
     "execution_count": 237,
     "metadata": {},
     "output_type": "execute_result"
    }
   ],
   "source": [
    "from sklearn.model_selection import cross_val_score\n",
    "\n",
    "cross_val_score(SVC(),scaled_X,y.values,cv=5)"
   ]
  },
  {
   "cell_type": "markdown",
   "id": "meaningful-hands",
   "metadata": {},
   "source": [
    "### Grid Search (Hyper-Parameter Tuning)"
   ]
  },
  {
   "cell_type": "code",
   "execution_count": 268,
   "id": "sharp-aruba",
   "metadata": {},
   "outputs": [
    {
     "data": {
      "text/html": [
       "<div>\n",
       "<style scoped>\n",
       "    .dataframe tbody tr th:only-of-type {\n",
       "        vertical-align: middle;\n",
       "    }\n",
       "\n",
       "    .dataframe tbody tr th {\n",
       "        vertical-align: top;\n",
       "    }\n",
       "\n",
       "    .dataframe thead th {\n",
       "        text-align: right;\n",
       "    }\n",
       "</style>\n",
       "<table border=\"1\" class=\"dataframe\">\n",
       "  <thead>\n",
       "    <tr style=\"text-align: right;\">\n",
       "      <th></th>\n",
       "      <th>mean_fit_time</th>\n",
       "      <th>std_fit_time</th>\n",
       "      <th>mean_score_time</th>\n",
       "      <th>std_score_time</th>\n",
       "      <th>param_C</th>\n",
       "      <th>param_kernel</th>\n",
       "      <th>params</th>\n",
       "      <th>split0_test_score</th>\n",
       "      <th>split1_test_score</th>\n",
       "      <th>split2_test_score</th>\n",
       "      <th>split3_test_score</th>\n",
       "      <th>split4_test_score</th>\n",
       "      <th>split5_test_score</th>\n",
       "      <th>split6_test_score</th>\n",
       "      <th>split7_test_score</th>\n",
       "      <th>split8_test_score</th>\n",
       "      <th>split9_test_score</th>\n",
       "      <th>mean_test_score</th>\n",
       "      <th>std_test_score</th>\n",
       "      <th>rank_test_score</th>\n",
       "    </tr>\n",
       "  </thead>\n",
       "  <tbody>\n",
       "    <tr>\n",
       "      <th>0</th>\n",
       "      <td>0.001569</td>\n",
       "      <td>0.004706</td>\n",
       "      <td>0.001562</td>\n",
       "      <td>0.004687</td>\n",
       "      <td>1</td>\n",
       "      <td>linear</td>\n",
       "      <td>{'C': 1, 'kernel': 'linear'}</td>\n",
       "      <td>0.870968</td>\n",
       "      <td>0.806452</td>\n",
       "      <td>0.870968</td>\n",
       "      <td>0.900000</td>\n",
       "      <td>0.900000</td>\n",
       "      <td>0.766667</td>\n",
       "      <td>0.900000</td>\n",
       "      <td>0.833333</td>\n",
       "      <td>0.7</td>\n",
       "      <td>0.733333</td>\n",
       "      <td>0.828172</td>\n",
       "      <td>0.069889</td>\n",
       "      <td>11</td>\n",
       "    </tr>\n",
       "    <tr>\n",
       "      <th>1</th>\n",
       "      <td>0.002218</td>\n",
       "      <td>0.004874</td>\n",
       "      <td>0.001564</td>\n",
       "      <td>0.004692</td>\n",
       "      <td>1</td>\n",
       "      <td>poly</td>\n",
       "      <td>{'C': 1, 'kernel': 'poly'}</td>\n",
       "      <td>0.806452</td>\n",
       "      <td>0.806452</td>\n",
       "      <td>0.806452</td>\n",
       "      <td>0.933333</td>\n",
       "      <td>0.900000</td>\n",
       "      <td>0.766667</td>\n",
       "      <td>0.833333</td>\n",
       "      <td>0.766667</td>\n",
       "      <td>0.7</td>\n",
       "      <td>0.766667</td>\n",
       "      <td>0.808602</td>\n",
       "      <td>0.064504</td>\n",
       "      <td>18</td>\n",
       "    </tr>\n",
       "    <tr>\n",
       "      <th>2</th>\n",
       "      <td>0.000000</td>\n",
       "      <td>0.000000</td>\n",
       "      <td>0.003131</td>\n",
       "      <td>0.006261</td>\n",
       "      <td>1</td>\n",
       "      <td>rbf</td>\n",
       "      <td>{'C': 1, 'kernel': 'rbf'}</td>\n",
       "      <td>0.838710</td>\n",
       "      <td>0.838710</td>\n",
       "      <td>0.838710</td>\n",
       "      <td>0.933333</td>\n",
       "      <td>0.866667</td>\n",
       "      <td>0.833333</td>\n",
       "      <td>0.833333</td>\n",
       "      <td>0.800000</td>\n",
       "      <td>0.7</td>\n",
       "      <td>0.800000</td>\n",
       "      <td>0.828280</td>\n",
       "      <td>0.055626</td>\n",
       "      <td>10</td>\n",
       "    </tr>\n",
       "    <tr>\n",
       "      <th>3</th>\n",
       "      <td>0.001562</td>\n",
       "      <td>0.004687</td>\n",
       "      <td>0.000000</td>\n",
       "      <td>0.000000</td>\n",
       "      <td>1</td>\n",
       "      <td>sigmoid</td>\n",
       "      <td>{'C': 1, 'kernel': 'sigmoid'}</td>\n",
       "      <td>0.870968</td>\n",
       "      <td>0.838710</td>\n",
       "      <td>0.870968</td>\n",
       "      <td>0.900000</td>\n",
       "      <td>0.866667</td>\n",
       "      <td>0.833333</td>\n",
       "      <td>0.933333</td>\n",
       "      <td>0.833333</td>\n",
       "      <td>0.7</td>\n",
       "      <td>0.700000</td>\n",
       "      <td>0.834731</td>\n",
       "      <td>0.073453</td>\n",
       "      <td>1</td>\n",
       "    </tr>\n",
       "    <tr>\n",
       "      <th>4</th>\n",
       "      <td>0.005347</td>\n",
       "      <td>0.007000</td>\n",
       "      <td>0.000000</td>\n",
       "      <td>0.000000</td>\n",
       "      <td>2</td>\n",
       "      <td>linear</td>\n",
       "      <td>{'C': 2, 'kernel': 'linear'}</td>\n",
       "      <td>0.870968</td>\n",
       "      <td>0.806452</td>\n",
       "      <td>0.870968</td>\n",
       "      <td>0.900000</td>\n",
       "      <td>0.900000</td>\n",
       "      <td>0.766667</td>\n",
       "      <td>0.933333</td>\n",
       "      <td>0.833333</td>\n",
       "      <td>0.7</td>\n",
       "      <td>0.733333</td>\n",
       "      <td>0.831505</td>\n",
       "      <td>0.073914</td>\n",
       "      <td>2</td>\n",
       "    </tr>\n",
       "  </tbody>\n",
       "</table>\n",
       "</div>"
      ],
      "text/plain": [
       "   mean_fit_time  std_fit_time  mean_score_time  std_score_time param_C  \\\n",
       "0       0.001569      0.004706         0.001562        0.004687       1   \n",
       "1       0.002218      0.004874         0.001564        0.004692       1   \n",
       "2       0.000000      0.000000         0.003131        0.006261       1   \n",
       "3       0.001562      0.004687         0.000000        0.000000       1   \n",
       "4       0.005347      0.007000         0.000000        0.000000       2   \n",
       "\n",
       "  param_kernel                         params  split0_test_score  \\\n",
       "0       linear   {'C': 1, 'kernel': 'linear'}           0.870968   \n",
       "1         poly     {'C': 1, 'kernel': 'poly'}           0.806452   \n",
       "2          rbf      {'C': 1, 'kernel': 'rbf'}           0.838710   \n",
       "3      sigmoid  {'C': 1, 'kernel': 'sigmoid'}           0.870968   \n",
       "4       linear   {'C': 2, 'kernel': 'linear'}           0.870968   \n",
       "\n",
       "   split1_test_score  split2_test_score  split3_test_score  split4_test_score  \\\n",
       "0           0.806452           0.870968           0.900000           0.900000   \n",
       "1           0.806452           0.806452           0.933333           0.900000   \n",
       "2           0.838710           0.838710           0.933333           0.866667   \n",
       "3           0.838710           0.870968           0.900000           0.866667   \n",
       "4           0.806452           0.870968           0.900000           0.900000   \n",
       "\n",
       "   split5_test_score  split6_test_score  split7_test_score  split8_test_score  \\\n",
       "0           0.766667           0.900000           0.833333                0.7   \n",
       "1           0.766667           0.833333           0.766667                0.7   \n",
       "2           0.833333           0.833333           0.800000                0.7   \n",
       "3           0.833333           0.933333           0.833333                0.7   \n",
       "4           0.766667           0.933333           0.833333                0.7   \n",
       "\n",
       "   split9_test_score  mean_test_score  std_test_score  rank_test_score  \n",
       "0           0.733333         0.828172        0.069889               11  \n",
       "1           0.766667         0.808602        0.064504               18  \n",
       "2           0.800000         0.828280        0.055626               10  \n",
       "3           0.700000         0.834731        0.073453                1  \n",
       "4           0.733333         0.831505        0.073914                2  "
      ]
     },
     "execution_count": 268,
     "metadata": {},
     "output_type": "execute_result"
    }
   ],
   "source": [
    "SVC_grid_search = GridSearchCV(SVC(),{\n",
    "    'C': range(1,10),\n",
    "    'kernel': ['linear','poly','rbf','sigmoid']\n",
    "},cv=10,return_train_score=False)\n",
    "\n",
    "SVC_grid_search.fit(scaled_X,y.values)\n",
    "\n",
    "svc_gs_df = pd.DataFrame(SVC_grid_search.cv_results_)\n",
    "svc_gs_df.head()"
   ]
  },
  {
   "cell_type": "code",
   "execution_count": 269,
   "id": "rental-trash",
   "metadata": {},
   "outputs": [
    {
     "data": {
      "text/html": [
       "<div>\n",
       "<style scoped>\n",
       "    .dataframe tbody tr th:only-of-type {\n",
       "        vertical-align: middle;\n",
       "    }\n",
       "\n",
       "    .dataframe tbody tr th {\n",
       "        vertical-align: top;\n",
       "    }\n",
       "\n",
       "    .dataframe thead th {\n",
       "        text-align: right;\n",
       "    }\n",
       "</style>\n",
       "<table border=\"1\" class=\"dataframe\">\n",
       "  <thead>\n",
       "    <tr style=\"text-align: right;\">\n",
       "      <th></th>\n",
       "      <th>param_C</th>\n",
       "      <th>param_kernel</th>\n",
       "      <th>mean_test_score</th>\n",
       "    </tr>\n",
       "  </thead>\n",
       "  <tbody>\n",
       "    <tr>\n",
       "      <th>3</th>\n",
       "      <td>1</td>\n",
       "      <td>sigmoid</td>\n",
       "      <td>0.834731</td>\n",
       "    </tr>\n",
       "  </tbody>\n",
       "</table>\n",
       "</div>"
      ],
      "text/plain": [
       "  param_C param_kernel  mean_test_score\n",
       "3       1      sigmoid         0.834731"
      ]
     },
     "execution_count": 269,
     "metadata": {},
     "output_type": "execute_result"
    }
   ],
   "source": [
    "svc_df = svc_gs_df[['param_C','param_kernel','mean_test_score']]\n",
    "svc_df.loc[svc_df['mean_test_score'] == svc_df['mean_test_score'].max()]"
   ]
  },
  {
   "cell_type": "markdown",
   "id": "directed-particular",
   "metadata": {},
   "source": [
    "## Training Naive Bayes Model"
   ]
  },
  {
   "cell_type": "code",
   "execution_count": 275,
   "id": "simple-bracket",
   "metadata": {},
   "outputs": [
    {
     "data": {
      "text/plain": [
       "GaussianNB()"
      ]
     },
     "execution_count": 275,
     "metadata": {},
     "output_type": "execute_result"
    }
   ],
   "source": [
    "from sklearn.naive_bayes import GaussianNB\n",
    "\n",
    "GNB_model = GaussianNB()\n",
    "GNB_model.fit(scaled_X_train,y_train)"
   ]
  },
  {
   "cell_type": "markdown",
   "id": "outer-fever",
   "metadata": {},
   "source": [
    "### Naive Bayes Model Score"
   ]
  },
  {
   "cell_type": "code",
   "execution_count": 276,
   "id": "dying-purple",
   "metadata": {},
   "outputs": [
    {
     "name": "stdout",
     "output_type": "stream",
     "text": [
      "Naive Bayes Model Score : 0.819672131147541\n"
     ]
    }
   ],
   "source": [
    "print(\"Naive Bayes Model Score : {}\".format(GNB_model.score(scaled_X_test,y_test)))"
   ]
  },
  {
   "cell_type": "markdown",
   "id": "prepared-collar",
   "metadata": {},
   "source": [
    "### Grid Search (Hyper-Parameter Tuning)"
   ]
  },
  {
   "cell_type": "code",
   "execution_count": 278,
   "id": "interracial-storm",
   "metadata": {},
   "outputs": [
    {
     "data": {
      "text/html": [
       "<div>\n",
       "<style scoped>\n",
       "    .dataframe tbody tr th:only-of-type {\n",
       "        vertical-align: middle;\n",
       "    }\n",
       "\n",
       "    .dataframe tbody tr th {\n",
       "        vertical-align: top;\n",
       "    }\n",
       "\n",
       "    .dataframe thead th {\n",
       "        text-align: right;\n",
       "    }\n",
       "</style>\n",
       "<table border=\"1\" class=\"dataframe\">\n",
       "  <thead>\n",
       "    <tr style=\"text-align: right;\">\n",
       "      <th></th>\n",
       "      <th>mean_fit_time</th>\n",
       "      <th>std_fit_time</th>\n",
       "      <th>mean_score_time</th>\n",
       "      <th>std_score_time</th>\n",
       "      <th>params</th>\n",
       "      <th>split0_test_score</th>\n",
       "      <th>split1_test_score</th>\n",
       "      <th>split2_test_score</th>\n",
       "      <th>split3_test_score</th>\n",
       "      <th>split4_test_score</th>\n",
       "      <th>split5_test_score</th>\n",
       "      <th>split6_test_score</th>\n",
       "      <th>split7_test_score</th>\n",
       "      <th>split8_test_score</th>\n",
       "      <th>split9_test_score</th>\n",
       "      <th>mean_test_score</th>\n",
       "      <th>std_test_score</th>\n",
       "      <th>rank_test_score</th>\n",
       "    </tr>\n",
       "  </thead>\n",
       "  <tbody>\n",
       "    <tr>\n",
       "      <th>0</th>\n",
       "      <td>0.001563</td>\n",
       "      <td>0.00469</td>\n",
       "      <td>0.0</td>\n",
       "      <td>0.0</td>\n",
       "      <td>{}</td>\n",
       "      <td>0.806452</td>\n",
       "      <td>0.806452</td>\n",
       "      <td>0.870968</td>\n",
       "      <td>0.9</td>\n",
       "      <td>0.8</td>\n",
       "      <td>0.733333</td>\n",
       "      <td>0.9</td>\n",
       "      <td>0.8</td>\n",
       "      <td>0.733333</td>\n",
       "      <td>0.7</td>\n",
       "      <td>0.805054</td>\n",
       "      <td>0.066146</td>\n",
       "      <td>1</td>\n",
       "    </tr>\n",
       "  </tbody>\n",
       "</table>\n",
       "</div>"
      ],
      "text/plain": [
       "   mean_fit_time  std_fit_time  mean_score_time  std_score_time params  \\\n",
       "0       0.001563       0.00469              0.0             0.0     {}   \n",
       "\n",
       "   split0_test_score  split1_test_score  split2_test_score  split3_test_score  \\\n",
       "0           0.806452           0.806452           0.870968                0.9   \n",
       "\n",
       "   split4_test_score  split5_test_score  split6_test_score  split7_test_score  \\\n",
       "0                0.8           0.733333                0.9                0.8   \n",
       "\n",
       "   split8_test_score  split9_test_score  mean_test_score  std_test_score  \\\n",
       "0           0.733333                0.7         0.805054        0.066146   \n",
       "\n",
       "   rank_test_score  \n",
       "0                1  "
      ]
     },
     "execution_count": 278,
     "metadata": {},
     "output_type": "execute_result"
    }
   ],
   "source": [
    "GNB_grid_search = GridSearchCV(GaussianNB(),{},cv=10,return_train_score=False)\n",
    "\n",
    "GNB_grid_search.fit(scaled_X,y.values)\n",
    "\n",
    "GNB_gs_df = pd.DataFrame(GNB_grid_search.cv_results_)\n",
    "GNB_gs_df.head()"
   ]
  },
  {
   "cell_type": "code",
   "execution_count": 279,
   "id": "frank-indianapolis",
   "metadata": {},
   "outputs": [
    {
     "data": {
      "text/plain": [
       "0    0.805054\n",
       "Name: mean_test_score, dtype: float64"
      ]
     },
     "execution_count": 279,
     "metadata": {},
     "output_type": "execute_result"
    }
   ],
   "source": [
    "GNB_gs_df['mean_test_score']"
   ]
  },
  {
   "cell_type": "markdown",
   "id": "entertaining-perth",
   "metadata": {},
   "source": [
    "## Selecting Random Forest AS Best Model"
   ]
  },
  {
   "cell_type": "code",
   "execution_count": 280,
   "id": "received-diabetes",
   "metadata": {},
   "outputs": [
    {
     "data": {
      "text/plain": [
       "RandomForestClassifier(max_depth=5, n_estimators=400)"
      ]
     },
     "execution_count": 280,
     "metadata": {},
     "output_type": "execute_result"
    }
   ],
   "source": [
    "RFC_Model = RFC(n_estimators=400,max_depth=5)\n",
    "RFC_Model.fit(scaled_X,y.values)"
   ]
  },
  {
   "cell_type": "code",
   "execution_count": 285,
   "id": "bigger-comfort",
   "metadata": {},
   "outputs": [
    {
     "name": "stdout",
     "output_type": "stream",
     "text": [
      "Tuned Random Forest Model Score : 0.8032786885245902\n"
     ]
    }
   ],
   "source": [
    "print(\"Tuned Random Forest Model Score : {}\".format(RFC_model.score(total_scaler.transform(X_test),y_test)))"
   ]
  },
  {
   "cell_type": "markdown",
   "id": "bound-wages",
   "metadata": {},
   "source": [
    "### Exporting Model AND Scaler"
   ]
  },
  {
   "cell_type": "code",
   "execution_count": 288,
   "id": "comparable-transsexual",
   "metadata": {},
   "outputs": [
    {
     "data": {
      "text/plain": [
       "['input-scaler']"
      ]
     },
     "execution_count": 288,
     "metadata": {},
     "output_type": "execute_result"
    }
   ],
   "source": [
    "import joblib\n",
    "\n",
    "joblib.dump(total_scaler,'input-scaler')"
   ]
  },
  {
   "cell_type": "code",
   "execution_count": 289,
   "id": "altered-portland",
   "metadata": {},
   "outputs": [
    {
     "data": {
      "text/plain": [
       "['heart-attack-prediction-model']"
      ]
     },
     "execution_count": 289,
     "metadata": {},
     "output_type": "execute_result"
    }
   ],
   "source": [
    "joblib.dump(RFC_Model,'heart-attack-prediction-model')"
   ]
  },
  {
   "cell_type": "code",
   "execution_count": null,
   "id": "featured-reward",
   "metadata": {},
   "outputs": [],
   "source": []
  }
 ],
 "metadata": {
  "kernelspec": {
   "display_name": "Python 3",
   "language": "python",
   "name": "python3"
  },
  "language_info": {
   "codemirror_mode": {
    "name": "ipython",
    "version": 3
   },
   "file_extension": ".py",
   "mimetype": "text/x-python",
   "name": "python",
   "nbconvert_exporter": "python",
   "pygments_lexer": "ipython3",
   "version": "3.8.9"
  }
 },
 "nbformat": 4,
 "nbformat_minor": 5
}
