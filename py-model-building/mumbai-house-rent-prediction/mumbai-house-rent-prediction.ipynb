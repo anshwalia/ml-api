{
 "cells": [
  {
   "cell_type": "markdown",
   "id": "severe-drink",
   "metadata": {},
   "source": [
    "# Mumbai House Rent Prediction"
   ]
  },
  {
   "cell_type": "markdown",
   "id": "divine-depression",
   "metadata": {},
   "source": [
    "## Importing Required Packages"
   ]
  },
  {
   "cell_type": "code",
   "execution_count": 1,
   "id": "electoral-active",
   "metadata": {},
   "outputs": [],
   "source": [
    "import pandas as pd\n",
    "import numpy as np\n",
    "import matplotlib.pyplot as plt\n",
    "%matplotlib inline\n",
    "import seaborn as sns"
   ]
  },
  {
   "cell_type": "markdown",
   "id": "outstanding-pressure",
   "metadata": {},
   "source": [
    "## Importing Dataset From CSV File"
   ]
  },
  {
   "cell_type": "code",
   "execution_count": 2,
   "id": "ambient-concord",
   "metadata": {},
   "outputs": [
    {
     "data": {
      "text/html": [
       "<div>\n",
       "<style scoped>\n",
       "    .dataframe tbody tr th:only-of-type {\n",
       "        vertical-align: middle;\n",
       "    }\n",
       "\n",
       "    .dataframe tbody tr th {\n",
       "        vertical-align: top;\n",
       "    }\n",
       "\n",
       "    .dataframe thead th {\n",
       "        text-align: right;\n",
       "    }\n",
       "</style>\n",
       "<table border=\"1\" class=\"dataframe\">\n",
       "  <thead>\n",
       "    <tr style=\"text-align: right;\">\n",
       "      <th></th>\n",
       "      <th>Locality</th>\n",
       "      <th>Type</th>\n",
       "      <th>Rent/Month</th>\n",
       "      <th>Build_up_area(sq.ft)</th>\n",
       "      <th>Furnishing</th>\n",
       "      <th>Bathrooms</th>\n",
       "      <th>Balcony</th>\n",
       "      <th>Parking</th>\n",
       "      <th>Carpet_area(sq.ft)</th>\n",
       "    </tr>\n",
       "  </thead>\n",
       "  <tbody>\n",
       "    <tr>\n",
       "      <th>0</th>\n",
       "      <td>Andheri</td>\n",
       "      <td>1 RK Apartment</td>\n",
       "      <td>20000</td>\n",
       "      <td>350 sq.ft</td>\n",
       "      <td>Semi Furnished</td>\n",
       "      <td>1</td>\n",
       "      <td>Missing</td>\n",
       "      <td>0.0</td>\n",
       "      <td>250 sq.ft</td>\n",
       "    </tr>\n",
       "    <tr>\n",
       "      <th>1</th>\n",
       "      <td>Andheri</td>\n",
       "      <td>3 BHK Apartment</td>\n",
       "      <td>100000</td>\n",
       "      <td>1850 sq.ft</td>\n",
       "      <td>Semi Furnished</td>\n",
       "      <td>3</td>\n",
       "      <td>1</td>\n",
       "      <td>2.0</td>\n",
       "      <td>1400 sq.ft</td>\n",
       "    </tr>\n",
       "    <tr>\n",
       "      <th>2</th>\n",
       "      <td>Andheri</td>\n",
       "      <td>2 BHK Apartment</td>\n",
       "      <td>45000</td>\n",
       "      <td>1240 sq.ft</td>\n",
       "      <td>Semi Furnished</td>\n",
       "      <td>2</td>\n",
       "      <td>4</td>\n",
       "      <td>1.0</td>\n",
       "      <td>850 sq.ft</td>\n",
       "    </tr>\n",
       "    <tr>\n",
       "      <th>3</th>\n",
       "      <td>Andheri</td>\n",
       "      <td>1 BHK Apartment</td>\n",
       "      <td>31500</td>\n",
       "      <td>650 sq.ft</td>\n",
       "      <td>Unfurnished</td>\n",
       "      <td>2</td>\n",
       "      <td>Missing</td>\n",
       "      <td>1.0</td>\n",
       "      <td>425 sq.ft</td>\n",
       "    </tr>\n",
       "    <tr>\n",
       "      <th>4</th>\n",
       "      <td>Andheri</td>\n",
       "      <td>2 BHK Apartment</td>\n",
       "      <td>44000</td>\n",
       "      <td>1250 sq.ft</td>\n",
       "      <td>Unfurnished</td>\n",
       "      <td>2</td>\n",
       "      <td>3</td>\n",
       "      <td>1.0</td>\n",
       "      <td>800 sq.ft</td>\n",
       "    </tr>\n",
       "  </tbody>\n",
       "</table>\n",
       "</div>"
      ],
      "text/plain": [
       "  Locality             Type  Rent/Month Build_up_area(sq.ft)      Furnishing  \\\n",
       "0  Andheri   1 RK Apartment       20000            350 sq.ft  Semi Furnished   \n",
       "1  Andheri  3 BHK Apartment      100000           1850 sq.ft  Semi Furnished   \n",
       "2  Andheri  2 BHK Apartment       45000           1240 sq.ft  Semi Furnished   \n",
       "3  Andheri  1 BHK Apartment       31500            650 sq.ft     Unfurnished   \n",
       "4  Andheri  2 BHK Apartment       44000           1250 sq.ft     Unfurnished   \n",
       "\n",
       "  Bathrooms  Balcony  Parking Carpet_area(sq.ft)  \n",
       "0         1  Missing      0.0          250 sq.ft  \n",
       "1         3        1      2.0         1400 sq.ft  \n",
       "2         2        4      1.0          850 sq.ft  \n",
       "3         2  Missing      1.0          425 sq.ft  \n",
       "4         2        3      1.0          800 sq.ft  "
      ]
     },
     "execution_count": 2,
     "metadata": {},
     "output_type": "execute_result"
    }
   ],
   "source": [
    "dataset = pd.read_csv('./Mumbai_House_Rent.csv')\n",
    "dataset.head()"
   ]
  },
  {
   "cell_type": "markdown",
   "id": "australian-potter",
   "metadata": {},
   "source": [
    "## Independent Variables (X)"
   ]
  },
  {
   "cell_type": "code",
   "execution_count": 3,
   "id": "determined-device",
   "metadata": {},
   "outputs": [
    {
     "data": {
      "text/html": [
       "<div>\n",
       "<style scoped>\n",
       "    .dataframe tbody tr th:only-of-type {\n",
       "        vertical-align: middle;\n",
       "    }\n",
       "\n",
       "    .dataframe tbody tr th {\n",
       "        vertical-align: top;\n",
       "    }\n",
       "\n",
       "    .dataframe thead th {\n",
       "        text-align: right;\n",
       "    }\n",
       "</style>\n",
       "<table border=\"1\" class=\"dataframe\">\n",
       "  <thead>\n",
       "    <tr style=\"text-align: right;\">\n",
       "      <th></th>\n",
       "      <th>Locality</th>\n",
       "      <th>Type</th>\n",
       "      <th>Build_up_area(sq.ft)</th>\n",
       "      <th>Furnishing</th>\n",
       "      <th>Bathrooms</th>\n",
       "      <th>Balcony</th>\n",
       "      <th>Parking</th>\n",
       "      <th>Carpet_area(sq.ft)</th>\n",
       "    </tr>\n",
       "  </thead>\n",
       "  <tbody>\n",
       "    <tr>\n",
       "      <th>0</th>\n",
       "      <td>Andheri</td>\n",
       "      <td>1 RK Apartment</td>\n",
       "      <td>350 sq.ft</td>\n",
       "      <td>Semi Furnished</td>\n",
       "      <td>1</td>\n",
       "      <td>Missing</td>\n",
       "      <td>0.0</td>\n",
       "      <td>250 sq.ft</td>\n",
       "    </tr>\n",
       "    <tr>\n",
       "      <th>1</th>\n",
       "      <td>Andheri</td>\n",
       "      <td>3 BHK Apartment</td>\n",
       "      <td>1850 sq.ft</td>\n",
       "      <td>Semi Furnished</td>\n",
       "      <td>3</td>\n",
       "      <td>1</td>\n",
       "      <td>2.0</td>\n",
       "      <td>1400 sq.ft</td>\n",
       "    </tr>\n",
       "    <tr>\n",
       "      <th>2</th>\n",
       "      <td>Andheri</td>\n",
       "      <td>2 BHK Apartment</td>\n",
       "      <td>1240 sq.ft</td>\n",
       "      <td>Semi Furnished</td>\n",
       "      <td>2</td>\n",
       "      <td>4</td>\n",
       "      <td>1.0</td>\n",
       "      <td>850 sq.ft</td>\n",
       "    </tr>\n",
       "    <tr>\n",
       "      <th>3</th>\n",
       "      <td>Andheri</td>\n",
       "      <td>1 BHK Apartment</td>\n",
       "      <td>650 sq.ft</td>\n",
       "      <td>Unfurnished</td>\n",
       "      <td>2</td>\n",
       "      <td>Missing</td>\n",
       "      <td>1.0</td>\n",
       "      <td>425 sq.ft</td>\n",
       "    </tr>\n",
       "    <tr>\n",
       "      <th>4</th>\n",
       "      <td>Andheri</td>\n",
       "      <td>2 BHK Apartment</td>\n",
       "      <td>1250 sq.ft</td>\n",
       "      <td>Unfurnished</td>\n",
       "      <td>2</td>\n",
       "      <td>3</td>\n",
       "      <td>1.0</td>\n",
       "      <td>800 sq.ft</td>\n",
       "    </tr>\n",
       "  </tbody>\n",
       "</table>\n",
       "</div>"
      ],
      "text/plain": [
       "  Locality             Type Build_up_area(sq.ft)      Furnishing Bathrooms  \\\n",
       "0  Andheri   1 RK Apartment            350 sq.ft  Semi Furnished         1   \n",
       "1  Andheri  3 BHK Apartment           1850 sq.ft  Semi Furnished         3   \n",
       "2  Andheri  2 BHK Apartment           1240 sq.ft  Semi Furnished         2   \n",
       "3  Andheri  1 BHK Apartment            650 sq.ft     Unfurnished         2   \n",
       "4  Andheri  2 BHK Apartment           1250 sq.ft     Unfurnished         2   \n",
       "\n",
       "   Balcony  Parking Carpet_area(sq.ft)  \n",
       "0  Missing      0.0          250 sq.ft  \n",
       "1        1      2.0         1400 sq.ft  \n",
       "2        4      1.0          850 sq.ft  \n",
       "3  Missing      1.0          425 sq.ft  \n",
       "4        3      1.0          800 sq.ft  "
      ]
     },
     "execution_count": 3,
     "metadata": {},
     "output_type": "execute_result"
    }
   ],
   "source": [
    "X = dataset.drop(['Rent/Month'],axis=1)\n",
    "X.head()"
   ]
  },
  {
   "cell_type": "markdown",
   "id": "about-company",
   "metadata": {},
   "source": [
    "## Dependent Variable (y)"
   ]
  },
  {
   "cell_type": "code",
   "execution_count": 4,
   "id": "welcome-sierra",
   "metadata": {},
   "outputs": [
    {
     "data": {
      "text/plain": [
       "0     20000\n",
       "1    100000\n",
       "2     45000\n",
       "3     31500\n",
       "4     44000\n",
       "Name: Rent/Month, dtype: int64"
      ]
     },
     "execution_count": 4,
     "metadata": {},
     "output_type": "execute_result"
    }
   ],
   "source": [
    "y = dataset['Rent/Month']\n",
    "y.head()"
   ]
  },
  {
   "cell_type": "code",
   "execution_count": null,
   "id": "innocent-validation",
   "metadata": {},
   "outputs": [],
   "source": []
  }
 ],
 "metadata": {
  "kernelspec": {
   "display_name": "Python 3",
   "language": "python",
   "name": "python3"
  },
  "language_info": {
   "codemirror_mode": {
    "name": "ipython",
    "version": 3
   },
   "file_extension": ".py",
   "mimetype": "text/x-python",
   "name": "python",
   "nbconvert_exporter": "python",
   "pygments_lexer": "ipython3",
   "version": "3.8.9"
  }
 },
 "nbformat": 4,
 "nbformat_minor": 5
}
