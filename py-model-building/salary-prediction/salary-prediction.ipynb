{
 "cells": [
  {
   "cell_type": "markdown",
   "id": "eligible-sugar",
   "metadata": {},
   "source": [
    "# Salary Prediction"
   ]
  },
  {
   "cell_type": "markdown",
   "id": "driven-float",
   "metadata": {},
   "source": [
    "## Importing Required Packages"
   ]
  },
  {
   "cell_type": "code",
   "execution_count": 1,
   "id": "surprised-pilot",
   "metadata": {},
   "outputs": [],
   "source": [
    "import pandas as pd\n",
    "import numpy as np\n",
    "import matplotlib.pyplot as plt\n",
    "%matplotlib inline"
   ]
  },
  {
   "cell_type": "markdown",
   "id": "authentic-costs",
   "metadata": {},
   "source": [
    "## Importing Dataset From CSV File"
   ]
  },
  {
   "cell_type": "code",
   "execution_count": 2,
   "id": "respective-kruger",
   "metadata": {},
   "outputs": [
    {
     "name": "stdout",
     "output_type": "stream",
     "text": [
      "Dataset Size : (30, 2)\n"
     ]
    },
    {
     "data": {
      "text/html": [
       "<div>\n",
       "<style scoped>\n",
       "    .dataframe tbody tr th:only-of-type {\n",
       "        vertical-align: middle;\n",
       "    }\n",
       "\n",
       "    .dataframe tbody tr th {\n",
       "        vertical-align: top;\n",
       "    }\n",
       "\n",
       "    .dataframe thead th {\n",
       "        text-align: right;\n",
       "    }\n",
       "</style>\n",
       "<table border=\"1\" class=\"dataframe\">\n",
       "  <thead>\n",
       "    <tr style=\"text-align: right;\">\n",
       "      <th></th>\n",
       "      <th>YearsExperience</th>\n",
       "      <th>Salary</th>\n",
       "    </tr>\n",
       "  </thead>\n",
       "  <tbody>\n",
       "    <tr>\n",
       "      <th>0</th>\n",
       "      <td>1.1</td>\n",
       "      <td>39343.0</td>\n",
       "    </tr>\n",
       "    <tr>\n",
       "      <th>1</th>\n",
       "      <td>1.3</td>\n",
       "      <td>46205.0</td>\n",
       "    </tr>\n",
       "    <tr>\n",
       "      <th>2</th>\n",
       "      <td>1.5</td>\n",
       "      <td>37731.0</td>\n",
       "    </tr>\n",
       "    <tr>\n",
       "      <th>3</th>\n",
       "      <td>2.0</td>\n",
       "      <td>43525.0</td>\n",
       "    </tr>\n",
       "    <tr>\n",
       "      <th>4</th>\n",
       "      <td>2.2</td>\n",
       "      <td>39891.0</td>\n",
       "    </tr>\n",
       "  </tbody>\n",
       "</table>\n",
       "</div>"
      ],
      "text/plain": [
       "   YearsExperience   Salary\n",
       "0              1.1  39343.0\n",
       "1              1.3  46205.0\n",
       "2              1.5  37731.0\n",
       "3              2.0  43525.0\n",
       "4              2.2  39891.0"
      ]
     },
     "execution_count": 2,
     "metadata": {},
     "output_type": "execute_result"
    }
   ],
   "source": [
    "dataset = pd.read_csv('Salary_Data.csv')\n",
    "print(\"Dataset Size :\",dataset.shape)\n",
    "dataset.head()"
   ]
  },
  {
   "cell_type": "markdown",
   "id": "insured-utilization",
   "metadata": {},
   "source": [
    "## Visualizaing Dataset"
   ]
  },
  {
   "cell_type": "code",
   "execution_count": 3,
   "id": "described-model",
   "metadata": {},
   "outputs": [
    {
     "data": {
      "image/png": "[encoded data removed]",
      "text/plain": [
       "<Figure size 432x288 with 1 Axes>"
      ]
     },
     "metadata": {
      "needs_background": "light"
     },
     "output_type": "display_data"
    }
   ],
   "source": [
    "plt.plot(dataset['YearsExperience'].values,dataset['Salary'].values)\n",
    "plt.title('Experience (Years) Vs. Salary (US$)')\n",
    "plt.xlabel('Experience (Years)')\n",
    "plt.ylabel('Salary (US$)')\n",
    "plt.show()"
   ]
  },
  {
   "cell_type": "markdown",
   "id": "varying-milton",
   "metadata": {},
   "source": [
    "## Independent Variable (X)"
   ]
  },
  {
   "cell_type": "code",
   "execution_count": 4,
   "id": "compressed-arthritis",
   "metadata": {},
   "outputs": [
    {
     "data": {
      "text/plain": [
       "array([ 1.1,  1.3,  1.5,  2. ,  2.2,  2.9,  3. ,  3.2,  3.2,  3.7,  3.9,\n",
       "        4. ,  4. ,  4.1,  4.5,  4.9,  5.1,  5.3,  5.9,  6. ,  6.8,  7.1,\n",
       "        7.9,  8.2,  8.7,  9. ,  9.5,  9.6, 10.3, 10.5])"
      ]
     },
     "execution_count": 4,
     "metadata": {},
     "output_type": "execute_result"
    }
   ],
   "source": [
    "X = dataset.iloc[:,0].values\n",
    "X"
   ]
  },
  {
   "cell_type": "markdown",
   "id": "respiratory-eclipse",
   "metadata": {},
   "source": [
    "## Dependent Variable (y)"
   ]
  },
  {
   "cell_type": "code",
   "execution_count": 5,
   "id": "corporate-interim",
   "metadata": {},
   "outputs": [
    {
     "data": {
      "text/plain": [
       "array([ 39343.,  46205.,  37731.,  43525.,  39891.,  56642.,  60150.,\n",
       "        54445.,  64445.,  57189.,  63218.,  55794.,  56957.,  57081.,\n",
       "        61111.,  67938.,  66029.,  83088.,  81363.,  93940.,  91738.,\n",
       "        98273., 101302., 113812., 109431., 105582., 116969., 112635.,\n",
       "       122391., 121872.])"
      ]
     },
     "execution_count": 5,
     "metadata": {},
     "output_type": "execute_result"
    }
   ],
   "source": [
    "y = dataset.iloc[:,-1].values\n",
    "y"
   ]
  },
  {
   "cell_type": "markdown",
   "id": "broadband-aurora",
   "metadata": {},
   "source": [
    "## Splitting Dataset Into Training and Test Set"
   ]
  },
  {
   "cell_type": "code",
   "execution_count": 6,
   "id": "cloudy-stadium",
   "metadata": {},
   "outputs": [],
   "source": [
    "from sklearn.model_selection import train_test_split as tts\n",
    "\n",
    "X_train, X_test, y_train, y_test = tts(X,y,test_size=0.2)"
   ]
  },
  {
   "cell_type": "code",
   "execution_count": 7,
   "id": "through-ferry",
   "metadata": {},
   "outputs": [
    {
     "data": {
      "text/plain": [
       "array([ 5.9,  3. ,  7.9,  6.8,  6. ,  8.2,  2. ,  1.3, 10.3,  3.2,  8.7,\n",
       "        5.3,  2.9,  1.1,  3.9,  4. ,  3.7,  2.2,  7.1,  5.1,  4. , 10.5,\n",
       "        9. ,  9.6])"
      ]
     },
     "execution_count": 7,
     "metadata": {},
     "output_type": "execute_result"
    }
   ],
   "source": [
    "X_train"
   ]
  },
  {
   "cell_type": "code",
   "execution_count": 8,
   "id": "settled-stopping",
   "metadata": {},
   "outputs": [
    {
     "data": {
      "text/plain": [
       "array([4.9, 4.1, 3.2, 4.5, 1.5, 9.5])"
      ]
     },
     "execution_count": 8,
     "metadata": {},
     "output_type": "execute_result"
    }
   ],
   "source": [
    "X_test"
   ]
  },
  {
   "cell_type": "code",
   "execution_count": 9,
   "id": "focal-wiring",
   "metadata": {},
   "outputs": [
    {
     "data": {
      "text/plain": [
       "array([ 81363.,  60150., 101302.,  91738.,  93940., 113812.,  43525.,\n",
       "        46205., 122391.,  54445., 109431.,  83088.,  56642.,  39343.,\n",
       "        63218.,  55794.,  57189.,  39891.,  98273.,  66029.,  56957.,\n",
       "       121872., 105582., 112635.])"
      ]
     },
     "execution_count": 9,
     "metadata": {},
     "output_type": "execute_result"
    }
   ],
   "source": [
    "y_train"
   ]
  },
  {
   "cell_type": "code",
   "execution_count": 10,
   "id": "modified-needle",
   "metadata": {},
   "outputs": [
    {
     "data": {
      "text/plain": [
       "array([ 67938.,  57081.,  64445.,  61111.,  37731., 116969.])"
      ]
     },
     "execution_count": 10,
     "metadata": {},
     "output_type": "execute_result"
    }
   ],
   "source": [
    "y_test"
   ]
  },
  {
   "cell_type": "markdown",
   "id": "exceptional-timber",
   "metadata": {},
   "source": [
    "## Creating Linear Regression Model"
   ]
  },
  {
   "cell_type": "code",
   "execution_count": 11,
   "id": "alternative-occurrence",
   "metadata": {},
   "outputs": [
    {
     "data": {
      "text/plain": [
       "LinearRegression()"
      ]
     },
     "execution_count": 11,
     "metadata": {},
     "output_type": "execute_result"
    }
   ],
   "source": [
    "from sklearn.linear_model import LinearRegression\n",
    "\n",
    "model = LinearRegression()\n",
    "model.fit(X_train.reshape(-1,1),y_train)"
   ]
  },
  {
   "cell_type": "code",
   "execution_count": 12,
   "id": "possible-dominant",
   "metadata": {},
   "outputs": [
    {
     "name": "stdout",
     "output_type": "stream",
     "text": [
      "Linear Regression Model Score : 0.9377411098582193\n"
     ]
    }
   ],
   "source": [
    "print(\"Linear Regression Model Score :\",model.score(X_test.reshape(-1,1),y_test))"
   ]
  },
  {
   "cell_type": "markdown",
   "id": "simple-steel",
   "metadata": {},
   "source": [
    "## Predicting Result Values"
   ]
  },
  {
   "cell_type": "code",
   "execution_count": 13,
   "id": "trained-juvenile",
   "metadata": {},
   "outputs": [
    {
     "data": {
      "text/plain": [
       "array([ 72611.48167288,  65114.20848986,  56679.77615896,  68862.84508137,\n",
       "        40748.07064504, 115720.80247526])"
      ]
     },
     "execution_count": 13,
     "metadata": {},
     "output_type": "execute_result"
    }
   ],
   "source": [
    "y_predicted = model.predict(X_test.reshape(-1,1))\n",
    "y_predicted"
   ]
  },
  {
   "cell_type": "markdown",
   "id": "rapid-basis",
   "metadata": {},
   "source": [
    "## Results"
   ]
  },
  {
   "cell_type": "code",
   "execution_count": 14,
   "id": "sticky-lighting",
   "metadata": {},
   "outputs": [
    {
     "data": {
      "text/html": [
       "<div>\n",
       "<style scoped>\n",
       "    .dataframe tbody tr th:only-of-type {\n",
       "        vertical-align: middle;\n",
       "    }\n",
       "\n",
       "    .dataframe tbody tr th {\n",
       "        vertical-align: top;\n",
       "    }\n",
       "\n",
       "    .dataframe thead th {\n",
       "        text-align: right;\n",
       "    }\n",
       "</style>\n",
       "<table border=\"1\" class=\"dataframe\">\n",
       "  <thead>\n",
       "    <tr style=\"text-align: right;\">\n",
       "      <th></th>\n",
       "      <th>Experience (Years)</th>\n",
       "      <th>Predicted Salary (US$)</th>\n",
       "    </tr>\n",
       "  </thead>\n",
       "  <tbody>\n",
       "    <tr>\n",
       "      <th>0</th>\n",
       "      <td>4.9</td>\n",
       "      <td>72611.481673</td>\n",
       "    </tr>\n",
       "    <tr>\n",
       "      <th>1</th>\n",
       "      <td>4.1</td>\n",
       "      <td>65114.208490</td>\n",
       "    </tr>\n",
       "    <tr>\n",
       "      <th>2</th>\n",
       "      <td>3.2</td>\n",
       "      <td>56679.776159</td>\n",
       "    </tr>\n",
       "    <tr>\n",
       "      <th>3</th>\n",
       "      <td>4.5</td>\n",
       "      <td>68862.845081</td>\n",
       "    </tr>\n",
       "    <tr>\n",
       "      <th>4</th>\n",
       "      <td>1.5</td>\n",
       "      <td>40748.070645</td>\n",
       "    </tr>\n",
       "    <tr>\n",
       "      <th>5</th>\n",
       "      <td>9.5</td>\n",
       "      <td>115720.802475</td>\n",
       "    </tr>\n",
       "  </tbody>\n",
       "</table>\n",
       "</div>"
      ],
      "text/plain": [
       "   Experience (Years)  Predicted Salary (US$)\n",
       "0                 4.9            72611.481673\n",
       "1                 4.1            65114.208490\n",
       "2                 3.2            56679.776159\n",
       "3                 4.5            68862.845081\n",
       "4                 1.5            40748.070645\n",
       "5                 9.5           115720.802475"
      ]
     },
     "execution_count": 14,
     "metadata": {},
     "output_type": "execute_result"
    }
   ],
   "source": [
    "results = pd.DataFrame({'Experience (Years)':X_test,'Predicted Salary (US$)':y_predicted})\n",
    "results"
   ]
  },
  {
   "cell_type": "markdown",
   "id": "acoustic-tracker",
   "metadata": {},
   "source": [
    "## Visualizing Training Set Results"
   ]
  },
  {
   "cell_type": "code",
   "execution_count": 15,
   "id": "expensive-chance",
   "metadata": {
    "scrolled": false
   },
   "outputs": [
    {
     "data": {
      "image/png": "[encoded data removed]",
      "text/plain": [
       "<Figure size 432x288 with 1 Axes>"
      ]
     },
     "metadata": {
      "needs_background": "light"
     },
     "output_type": "display_data"
    }
   ],
   "source": [
    "plt.scatter(X_train,y_train,color='red')\n",
    "plt.plot(X_train,model.predict(X_train.reshape(-1,1)))\n",
    "plt.title('Experience (Years) Vs. Predicted Salary (US$)')\n",
    "plt.xlabel('Experience (Years)')\n",
    "plt.ylabel('Predicted Salary (US$)')\n",
    "plt.show()"
   ]
  },
  {
   "cell_type": "markdown",
   "id": "accredited-colombia",
   "metadata": {},
   "source": [
    "## Visualizing Test Set Results"
   ]
  },
  {
   "cell_type": "code",
   "execution_count": 16,
   "id": "muslim-tournament",
   "metadata": {},
   "outputs": [
    {
     "data": {
      "image/png": "[encoded data removed]",
      "text/plain": [
       "<Figure size 432x288 with 1 Axes>"
      ]
     },
     "metadata": {
      "needs_background": "light"
     },
     "output_type": "display_data"
    }
   ],
   "source": [
    "plt.scatter(X_test,y_test,color='red')\n",
    "plt.plot(X_train,model.predict(X_train.reshape(-1,1)))\n",
    "plt.title('Experience (Years) Vs. Predicted Salary (US$)')\n",
    "plt.xlabel('Experience (Years)')\n",
    "plt.ylabel('Predicted Salary (US$)')\n",
    "plt.show()"
   ]
  },
  {
   "cell_type": "markdown",
   "id": "willing-theology",
   "metadata": {},
   "source": [
    "## Exporting Model"
   ]
  },
  {
   "cell_type": "code",
   "execution_count": 17,
   "id": "improved-extra",
   "metadata": {},
   "outputs": [
    {
     "data": {
      "text/plain": [
       "['salary-prediction-model']"
      ]
     },
     "execution_count": 17,
     "metadata": {},
     "output_type": "execute_result"
    }
   ],
   "source": [
    "import joblib\n",
    "joblib.dump(model,'salary-prediction-model')"
   ]
  }
 ],
 "metadata": {
  "kernelspec": {
   "display_name": "Python 3",
   "language": "python",
   "name": "python3"
  },
  "language_info": {
   "codemirror_mode": {
    "name": "ipython",
    "version": 3
   },
   "file_extension": ".py",
   "mimetype": "text/x-python",
   "name": "python",
   "nbconvert_exporter": "python",
   "pygments_lexer": "ipython3",
   "version": "3.8.9"
  }
 },
 "nbformat": 4,
 "nbformat_minor": 5
}
